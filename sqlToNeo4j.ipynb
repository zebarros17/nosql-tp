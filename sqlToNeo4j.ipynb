{
 "cells": [
  {
   "cell_type": "code",
   "execution_count": 1,
   "metadata": {},
   "outputs": [],
   "source": [
    "import pandas as pd\n",
    "import numpy as np\n",
    "import cx_Oracle\n",
    "from py2neo import Graph, Node, Relationship, NodeMatcher\n",
    "import warnings\n",
    "\n",
    "# Desabilitar o aviso temporariamente\n",
    "warnings.filterwarnings(\"ignore\", category=FutureWarning)"
   ]
  },
  {
   "cell_type": "code",
   "execution_count": 2,
   "metadata": {},
   "outputs": [],
   "source": [
    "def lowerCols(column_names):\n",
    "    column_names_lower = []\n",
    "    for cn in column_names:\n",
    "        column_names_lower.append(cn.lower())\n",
    "    return column_names_lower"
   ]
  },
  {
   "attachments": {},
   "cell_type": "markdown",
   "metadata": {},
   "source": [
    "# Conexões"
   ]
  },
  {
   "cell_type": "code",
   "execution_count": 3,
   "metadata": {},
   "outputs": [],
   "source": [
    "instant_client = \"./instantclient_21_9\"\n",
    "cx_Oracle.init_oracle_client(lib_dir=instant_client)\n",
    "# Conectar ao banco de dados Oracle\n",
    "conn = cx_Oracle.connect(user=\"store\", password=\"pass\", dsn=\"localhost:1521/xe\")\n",
    "\n",
    "# estabelecer conexão neo4j\n",
    "graph = Graph(\"bolt://localhost:7687 \", auth=(\"neo4j\", \"password\"))\n",
    "matcher = NodeMatcher(graph)"
   ]
  },
  {
   "attachments": {},
   "cell_type": "markdown",
   "metadata": {},
   "source": [
    "# SQL"
   ]
  },
  {
   "cell_type": "code",
   "execution_count": 4,
   "metadata": {},
   "outputs": [],
   "source": [
    "# Criar um cursor\n",
    "cursor = conn.cursor()"
   ]
  },
  {
   "attachments": {},
   "cell_type": "markdown",
   "metadata": {},
   "source": [
    "### PRODUCT CATEGORIES"
   ]
  },
  {
   "cell_type": "code",
   "execution_count": 5,
   "metadata": {},
   "outputs": [],
   "source": [
    "cursor.execute('SELECT * FROM PRODUCT_CATEGORIES')\n",
    "product_categories = cursor.fetchall()\n",
    "\n",
    "product_categories_df = pd.DataFrame(product_categories)\n",
    "product_categories_column_names = [column[0] for column in cursor.description]\n",
    "product_categories_df.columns = lowerCols(product_categories_column_names)"
   ]
  },
  {
   "attachments": {},
   "cell_type": "markdown",
   "metadata": {},
   "source": [
    "### PRODUCT"
   ]
  },
  {
   "cell_type": "code",
   "execution_count": 6,
   "metadata": {},
   "outputs": [],
   "source": [
    "productQuery = \"select pd.*, s.quantity, s.max_stock_quantity, s.unit from (select p.*, d.discount_name, d.discount_desc, d.discount_percent, d.is_active_status, d.created_at as discount_created_at, d.modified_at as discount_modified_at from product p left join discount d on d.discount_id = p.discount_id) pd, stock s where pd.product_id=s.product_id\""
   ]
  },
  {
   "cell_type": "code",
   "execution_count": 7,
   "metadata": {},
   "outputs": [],
   "source": [
    "cursor.execute(productQuery)\n",
    "product = cursor.fetchall()\n",
    "\n",
    "product_df = pd.DataFrame(product)\n",
    "product_column_names = [column[0] for column in cursor.description]\n",
    "product_df.columns = lowerCols(product_column_names)"
   ]
  },
  {
   "attachments": {},
   "cell_type": "markdown",
   "metadata": {},
   "source": [
    "### EMPLOYEES"
   ]
  },
  {
   "cell_type": "code",
   "execution_count": 8,
   "metadata": {},
   "outputs": [],
   "source": [
    "cursor.execute('SELECT * FROM EMPLOYEES')\n",
    "employees = cursor.fetchall()\n",
    "\n",
    "employees_df = pd.DataFrame(employees)\n",
    "employees_column_names = [column[0] for column in cursor.description]\n",
    "employees_df.columns = lowerCols(employees_column_names)"
   ]
  },
  {
   "attachments": {},
   "cell_type": "markdown",
   "metadata": {},
   "source": [
    "### DEPARTMENT"
   ]
  },
  {
   "cell_type": "code",
   "execution_count": 9,
   "metadata": {},
   "outputs": [],
   "source": [
    "cursor.execute('SELECT * FROM DEPARTMENTS')\n",
    "departments = cursor.fetchall()\n",
    "\n",
    "departments_df = pd.DataFrame(departments)\n",
    "departments_column_names = [column[0] for column in cursor.description]\n",
    "departments_df.columns = lowerCols(departments_column_names)"
   ]
  },
  {
   "attachments": {},
   "cell_type": "markdown",
   "metadata": {},
   "source": [
    "### EMPLOYEES_ARCHIVE"
   ]
  },
  {
   "cell_type": "code",
   "execution_count": 10,
   "metadata": {},
   "outputs": [],
   "source": [
    "cursor.execute('SELECT * FROM EMPLOYEES_ARCHIVE')\n",
    "employees_archive = cursor.fetchall()\n",
    "\n",
    "employees_archive_df = pd.DataFrame(employees_archive)\n",
    "employees_archive_column_names = [column[0] for column in cursor.description]\n",
    "employees_archive_df.columns = lowerCols(employees_archive_column_names)"
   ]
  },
  {
   "attachments": {},
   "cell_type": "markdown",
   "metadata": {},
   "source": [
    "### STORE_USERS"
   ]
  },
  {
   "cell_type": "code",
   "execution_count": 11,
   "metadata": {},
   "outputs": [],
   "source": [
    "cursor.execute('SELECT * FROM STORE_USERS')\n",
    "store_users = cursor.fetchall()\n",
    "\n",
    "store_users_df = pd.DataFrame(store_users)\n",
    "store_users_column_names = [column[0] for column in cursor.description]\n",
    "store_users_df.columns = lowerCols(store_users_column_names)"
   ]
  },
  {
   "attachments": {},
   "cell_type": "markdown",
   "metadata": {},
   "source": [
    "### SHOPPING_SESSION"
   ]
  },
  {
   "cell_type": "code",
   "execution_count": 12,
   "metadata": {},
   "outputs": [],
   "source": [
    "cursor.execute('SELECT * FROM SHOPPING_SESSION')\n",
    "shopping_session = cursor.fetchall()\n",
    "\n",
    "shopping_session_df = pd.DataFrame(shopping_session)\n",
    "shopping_session_column_names = [column[0] for column in cursor.description]\n",
    "shopping_session_df.columns = lowerCols(shopping_session_column_names)"
   ]
  },
  {
   "attachments": {},
   "cell_type": "markdown",
   "metadata": {},
   "source": [
    "### CART_ITEM"
   ]
  },
  {
   "cell_type": "code",
   "execution_count": 13,
   "metadata": {},
   "outputs": [],
   "source": [
    "cursor.execute('SELECT * FROM CART_ITEM')\n",
    "cart_item = cursor.fetchall()\n",
    "\n",
    "cart_item_df = pd.DataFrame(cart_item)\n",
    "cart_item_column_names = [column[0] for column in cursor.description]\n",
    "cart_item_df.columns = lowerCols(cart_item_column_names)"
   ]
  },
  {
   "attachments": {},
   "cell_type": "markdown",
   "metadata": {},
   "source": [
    "### ORDER_DETAILS"
   ]
  },
  {
   "cell_type": "code",
   "execution_count": 14,
   "metadata": {},
   "outputs": [],
   "source": [
    "orderDetailsQuery = \"select od.*, pd.amount, pd.provider, pd.payment_status, pd.created_at as payment_created_at, pd.modified_at as payment_modified_at from order_details od, payment_details pd where od.payment_id = pd.payment_details_id\""
   ]
  },
  {
   "cell_type": "code",
   "execution_count": 15,
   "metadata": {},
   "outputs": [],
   "source": [
    "cursor.execute(orderDetailsQuery)\n",
    "order_details = cursor.fetchall()\n",
    "\n",
    "order_details_df = pd.DataFrame(order_details)\n",
    "order_details_column_names = [column[0] for column in cursor.description]\n",
    "order_details_df.columns = lowerCols(order_details_column_names)"
   ]
  },
  {
   "attachments": {},
   "cell_type": "markdown",
   "metadata": {},
   "source": [
    "### ADDRESSES"
   ]
  },
  {
   "cell_type": "code",
   "execution_count": 16,
   "metadata": {},
   "outputs": [],
   "source": [
    "cursor.execute('SELECT * FROM ADDRESSES')\n",
    "addresses = cursor.fetchall()\n",
    "\n",
    "addresses_df = pd.DataFrame(addresses)\n",
    "addresses_column_names = [column[0] for column in cursor.description]\n",
    "addresses_df.columns = lowerCols(addresses_column_names)"
   ]
  },
  {
   "attachments": {},
   "cell_type": "markdown",
   "metadata": {},
   "source": [
    "### ORDER_ITEMS"
   ]
  },
  {
   "cell_type": "code",
   "execution_count": 17,
   "metadata": {},
   "outputs": [],
   "source": [
    "cursor.execute('SELECT * FROM ORDER_ITEMS')\n",
    "order_items = cursor.fetchall()\n",
    "\n",
    "order_items_df = pd.DataFrame(order_items)\n",
    "order_items_column_names = [column[0] for column in cursor.description]\n",
    "order_items_df.columns = lowerCols(order_items_column_names)"
   ]
  },
  {
   "attachments": {},
   "cell_type": "markdown",
   "metadata": {},
   "source": [
    "# Inserir NEO4J"
   ]
  },
  {
   "attachments": {},
   "cell_type": "markdown",
   "metadata": {},
   "source": [
    "### PRODUCT_CATEGORIES"
   ]
  },
  {
   "cell_type": "code",
   "execution_count": 18,
   "metadata": {},
   "outputs": [],
   "source": [
    "product_categories_dict = product_categories_df.to_dict(orient='records')\n",
    "\n",
    "product_categories_dict_rel = {}\n",
    "for pc in product_categories_dict:\n",
    "    product_categories_node = Node(\"PRODUCT_CATEGORIES\",  category_id=pc['category_id'], category_name=pc['category_name'])\n",
    "    graph.create(product_categories_node)\n",
    "    product_categories_dict_rel[pc['category_id']] = product_categories_node"
   ]
  },
  {
   "attachments": {},
   "cell_type": "markdown",
   "metadata": {},
   "source": [
    "### PRODUCT"
   ]
  },
  {
   "cell_type": "code",
   "execution_count": 21,
   "metadata": {},
   "outputs": [
    {
     "data": {
      "text/plain": [
       "[{'product_id': 1,\n",
       "  'product_name': 'ASUS X515-BQ26W 8GB RAM 256GB SSD',\n",
       "  'category_id': 1,\n",
       "  'sku': 'HR278YRE',\n",
       "  'price': 2399,\n",
       "  'discount_id': 1.0,\n",
       "  'created_at': Timestamp('2022-07-01 09:57:48'),\n",
       "  'last_modified': Timestamp('2022-07-12 23:58:55'),\n",
       "  'discount_name': 'Hits of the Week',\n",
       "  'discount_desc': 'Weekly discount',\n",
       "  'discount_percent': 15.0,\n",
       "  'is_active_status': 'Y',\n",
       "  'discount_created_at': Timestamp('2022-03-10 02:27:51'),\n",
       "  'discount_modified_at': None,\n",
       "  'quantity': 47,\n",
       "  'max_stock_quantity': 120,\n",
       "  'unit': '1PCS'},\n",
       " {'product_id': 5,\n",
       "  'product_name': 'Samsung Galaxy A52',\n",
       "  'category_id': 4,\n",
       "  'sku': 'TR849PQE',\n",
       "  'price': 1199,\n",
       "  'discount_id': 1.0,\n",
       "  'created_at': Timestamp('2022-05-09 13:13:07'),\n",
       "  'last_modified': None,\n",
       "  'discount_name': 'Hits of the Week',\n",
       "  'discount_desc': 'Weekly discount',\n",
       "  'discount_percent': 15.0,\n",
       "  'is_active_status': 'Y',\n",
       "  'discount_created_at': Timestamp('2022-03-10 02:27:51'),\n",
       "  'discount_modified_at': None,\n",
       "  'quantity': 169,\n",
       "  'max_stock_quantity': 400,\n",
       "  'unit': '1PCS'},\n",
       " {'product_id': 14,\n",
       "  'product_name': 'Acer Aspire TX Turbo 2',\n",
       "  'category_id': 1,\n",
       "  'sku': 'DV932MNN',\n",
       "  'price': 1999,\n",
       "  'discount_id': 1.0,\n",
       "  'created_at': Timestamp('2022-01-13 11:24:26'),\n",
       "  'last_modified': None,\n",
       "  'discount_name': 'Hits of the Week',\n",
       "  'discount_desc': 'Weekly discount',\n",
       "  'discount_percent': 15.0,\n",
       "  'is_active_status': 'Y',\n",
       "  'discount_created_at': Timestamp('2022-03-10 02:27:51'),\n",
       "  'discount_modified_at': None,\n",
       "  'quantity': 59,\n",
       "  'max_stock_quantity': 60,\n",
       "  'unit': '1PCS'},\n",
       " {'product_id': 19,\n",
       "  'product_name': 'Xbox Series X + Halo Infinite',\n",
       "  'category_id': 1,\n",
       "  'sku': 'EPROL23S',\n",
       "  'price': 2697,\n",
       "  'discount_id': 1.0,\n",
       "  'created_at': Timestamp('2022-07-04 20:30:16'),\n",
       "  'last_modified': None,\n",
       "  'discount_name': 'Hits of the Week',\n",
       "  'discount_desc': 'Weekly discount',\n",
       "  'discount_percent': 15.0,\n",
       "  'is_active_status': 'Y',\n",
       "  'discount_created_at': Timestamp('2022-03-10 02:27:51'),\n",
       "  'discount_modified_at': None,\n",
       "  'quantity': 499,\n",
       "  'max_stock_quantity': 1000,\n",
       "  'unit': '1PCS'},\n",
       " {'product_id': 12,\n",
       "  'product_name': 'AOC 23PRO4',\n",
       "  'category_id': 5,\n",
       "  'sku': 'YE04PRGS',\n",
       "  'price': 1500,\n",
       "  'discount_id': 2.0,\n",
       "  'created_at': Timestamp('2022-07-11 00:20:58'),\n",
       "  'last_modified': None,\n",
       "  'discount_name': 'Summer Sales',\n",
       "  'discount_desc': None,\n",
       "  'discount_percent': 30.0,\n",
       "  'is_active_status': 'Y',\n",
       "  'discount_created_at': Timestamp('2022-06-10 02:28:08'),\n",
       "  'discount_modified_at': None,\n",
       "  'quantity': 25,\n",
       "  'max_stock_quantity': 60,\n",
       "  'unit': '1PCS'},\n",
       " {'product_id': 16,\n",
       "  'product_name': 'Apple Iphone 12 mini',\n",
       "  'category_id': 4,\n",
       "  'sku': 'RT472POS',\n",
       "  'price': 3599,\n",
       "  'discount_id': 2.0,\n",
       "  'created_at': Timestamp('2022-01-12 00:26:49'),\n",
       "  'last_modified': None,\n",
       "  'discount_name': 'Summer Sales',\n",
       "  'discount_desc': None,\n",
       "  'discount_percent': 30.0,\n",
       "  'is_active_status': 'Y',\n",
       "  'discount_created_at': Timestamp('2022-06-10 02:28:08'),\n",
       "  'discount_modified_at': None,\n",
       "  'quantity': 199,\n",
       "  'max_stock_quantity': 400,\n",
       "  'unit': '1PCS'},\n",
       " {'product_id': 17,\n",
       "  'product_name': 'Audio-Technica ATC900',\n",
       "  'category_id': 3,\n",
       "  'sku': 'YRP23LLL',\n",
       "  'price': 499,\n",
       "  'discount_id': 2.0,\n",
       "  'created_at': Timestamp('2022-04-26 00:27:56'),\n",
       "  'last_modified': Timestamp('2022-05-19 00:28:00'),\n",
       "  'discount_name': 'Summer Sales',\n",
       "  'discount_desc': None,\n",
       "  'discount_percent': 30.0,\n",
       "  'is_active_status': 'Y',\n",
       "  'discount_created_at': Timestamp('2022-06-10 02:28:08'),\n",
       "  'discount_modified_at': None,\n",
       "  'quantity': 29,\n",
       "  'max_stock_quantity': 400,\n",
       "  'unit': '1PCS'},\n",
       " {'product_id': 3,\n",
       "  'product_name': 'JBL Quantum 600',\n",
       "  'category_id': 3,\n",
       "  'sku': 'YT008BVG',\n",
       "  'price': 399,\n",
       "  'discount_id': 3.0,\n",
       "  'created_at': Timestamp('2022-07-11 10:54:59'),\n",
       "  'last_modified': Timestamp('2022-07-13 00:05:09'),\n",
       "  'discount_name': 'Hot Promotions',\n",
       "  'discount_desc': None,\n",
       "  'discount_percent': 25.0,\n",
       "  'is_active_status': 'Y',\n",
       "  'discount_created_at': Timestamp('2022-06-01 02:27:56'),\n",
       "  'discount_modified_at': Timestamp('2022-07-14 02:28:38'),\n",
       "  'quantity': 321,\n",
       "  'max_stock_quantity': 400,\n",
       "  'unit': '1PCS'},\n",
       " {'product_id': 8,\n",
       "  'product_name': 'Apple Iphone 11',\n",
       "  'category_id': 4,\n",
       "  'sku': 'NB923PQO',\n",
       "  'price': 2499,\n",
       "  'discount_id': 3.0,\n",
       "  'created_at': Timestamp('2021-11-23 00:16:10'),\n",
       "  'last_modified': None,\n",
       "  'discount_name': 'Hot Promotions',\n",
       "  'discount_desc': None,\n",
       "  'discount_percent': 25.0,\n",
       "  'is_active_status': 'Y',\n",
       "  'discount_created_at': Timestamp('2022-06-01 02:27:56'),\n",
       "  'discount_modified_at': Timestamp('2022-07-14 02:28:38'),\n",
       "  'quantity': 273,\n",
       "  'max_stock_quantity': 400,\n",
       "  'unit': '1PCS'},\n",
       " {'product_id': 10,\n",
       "  'product_name': 'Sharp 50BL5',\n",
       "  'category_id': 2,\n",
       "  'sku': 'FD947OGJ',\n",
       "  'price': 1490,\n",
       "  'discount_id': 4.0,\n",
       "  'created_at': Timestamp('2021-12-20 10:18:40'),\n",
       "  'last_modified': None,\n",
       "  'discount_name': 'Black Friday',\n",
       "  'discount_desc': None,\n",
       "  'discount_percent': 40.0,\n",
       "  'is_active_status': 'N',\n",
       "  'discount_created_at': Timestamp('2022-02-15 02:28:13'),\n",
       "  'discount_modified_at': None,\n",
       "  'quantity': 60,\n",
       "  'max_stock_quantity': 120,\n",
       "  'unit': '1PCS'},\n",
       " {'product_id': 15,\n",
       "  'product_name': 'Krups Evidence EA20',\n",
       "  'category_id': 8,\n",
       "  'sku': 'AS64Y91M',\n",
       "  'price': 1800,\n",
       "  'discount_id': 5.0,\n",
       "  'created_at': Timestamp('2021-12-08 00:25:47'),\n",
       "  'last_modified': Timestamp('2022-02-14 00:25:52'),\n",
       "  'discount_name': 'Holiday Sales',\n",
       "  'discount_desc': None,\n",
       "  'discount_percent': 35.0,\n",
       "  'is_active_status': 'N',\n",
       "  'discount_created_at': Timestamp('2021-12-14 02:28:18'),\n",
       "  'discount_modified_at': Timestamp('2022-01-01 16:28:24'),\n",
       "  'quantity': 31,\n",
       "  'max_stock_quantity': 100,\n",
       "  'unit': '1PCS'},\n",
       " {'product_id': 2,\n",
       "  'product_name': 'TV Samsung UE65A DVB',\n",
       "  'category_id': 2,\n",
       "  'sku': 'MN621DFV',\n",
       "  'price': 2449,\n",
       "  'discount_id': nan,\n",
       "  'created_at': Timestamp('2022-07-06 13:03:49'),\n",
       "  'last_modified': Timestamp('2022-07-13 00:00:01'),\n",
       "  'discount_name': None,\n",
       "  'discount_desc': None,\n",
       "  'discount_percent': nan,\n",
       "  'is_active_status': None,\n",
       "  'discount_created_at': None,\n",
       "  'discount_modified_at': None,\n",
       "  'quantity': 21,\n",
       "  'max_stock_quantity': 60,\n",
       "  'unit': '1PCS'},\n",
       " {'product_id': 4,\n",
       "  'product_name': 'realme 8 4+64',\n",
       "  'category_id': 4,\n",
       "  'sku': 'PQ613BSD',\n",
       "  'price': 839,\n",
       "  'discount_id': nan,\n",
       "  'created_at': Timestamp('2022-03-15 04:12:03'),\n",
       "  'last_modified': None,\n",
       "  'discount_name': None,\n",
       "  'discount_desc': None,\n",
       "  'discount_percent': nan,\n",
       "  'is_active_status': None,\n",
       "  'discount_created_at': None,\n",
       "  'discount_modified_at': None,\n",
       "  'quantity': 121,\n",
       "  'max_stock_quantity': 400,\n",
       "  'unit': '1PCS'},\n",
       " {'product_id': 6,\n",
       "  'product_name': 'Xiaomi Redmi Buds 3 Lite',\n",
       "  'category_id': 3,\n",
       "  'sku': 'UT432PQE',\n",
       "  'price': 86,\n",
       "  'discount_id': nan,\n",
       "  'created_at': Timestamp('2021-12-23 00:14:07'),\n",
       "  'last_modified': Timestamp('2022-05-25 00:14:12'),\n",
       "  'discount_name': None,\n",
       "  'discount_desc': None,\n",
       "  'discount_percent': nan,\n",
       "  'is_active_status': None,\n",
       "  'discount_created_at': None,\n",
       "  'discount_modified_at': None,\n",
       "  'quantity': 618,\n",
       "  'max_stock_quantity': 1200,\n",
       "  'unit': '1PCS'},\n",
       " {'product_id': 7,\n",
       "  'product_name': 'Samsung RS65 Fridge',\n",
       "  'category_id': 8,\n",
       "  'sku': 'UT043LSD',\n",
       "  'price': 5999,\n",
       "  'discount_id': nan,\n",
       "  'created_at': Timestamp('2022-01-24 09:15:27'),\n",
       "  'last_modified': None,\n",
       "  'discount_name': None,\n",
       "  'discount_desc': None,\n",
       "  'discount_percent': nan,\n",
       "  'is_active_status': None,\n",
       "  'discount_created_at': None,\n",
       "  'discount_modified_at': None,\n",
       "  'quantity': 24,\n",
       "  'max_stock_quantity': 30,\n",
       "  'unit': '1PCS'},\n",
       " {'product_id': 9,\n",
       "  'product_name': 'Logitech MK220',\n",
       "  'category_id': 7,\n",
       "  'sku': 'UY840PDN',\n",
       "  'price': 90,\n",
       "  'discount_id': nan,\n",
       "  'created_at': Timestamp('2022-01-12 00:17:42'),\n",
       "  'last_modified': None,\n",
       "  'discount_name': None,\n",
       "  'discount_desc': None,\n",
       "  'discount_percent': nan,\n",
       "  'is_active_status': None,\n",
       "  'discount_created_at': None,\n",
       "  'discount_modified_at': None,\n",
       "  'quantity': 771,\n",
       "  'max_stock_quantity': 1200,\n",
       "  'unit': '1PCS'},\n",
       " {'product_id': 11,\n",
       "  'product_name': 'Asus Vivobook Pro 14',\n",
       "  'category_id': 1,\n",
       "  'sku': '3T34RPO2',\n",
       "  'price': 5299,\n",
       "  'discount_id': nan,\n",
       "  'created_at': Timestamp('2022-01-01 00:19:36'),\n",
       "  'last_modified': Timestamp('2022-04-28 22:19:42'),\n",
       "  'discount_name': None,\n",
       "  'discount_desc': None,\n",
       "  'discount_percent': nan,\n",
       "  'is_active_status': None,\n",
       "  'discount_created_at': None,\n",
       "  'discount_modified_at': None,\n",
       "  'quantity': 7,\n",
       "  'max_stock_quantity': 40,\n",
       "  'unit': '1PCS'},\n",
       " {'product_id': 13,\n",
       "  'product_name': 'Gigabyte GTX 2080Ti ',\n",
       "  'category_id': 6,\n",
       "  'sku': '3T04T843',\n",
       "  'price': 2299,\n",
       "  'discount_id': nan,\n",
       "  'created_at': Timestamp('2021-10-06 00:21:54'),\n",
       "  'last_modified': None,\n",
       "  'discount_name': None,\n",
       "  'discount_desc': None,\n",
       "  'discount_percent': nan,\n",
       "  'is_active_status': None,\n",
       "  'discount_created_at': None,\n",
       "  'discount_modified_at': None,\n",
       "  'quantity': 16,\n",
       "  'max_stock_quantity': 40,\n",
       "  'unit': '1PCS'},\n",
       " {'product_id': 18,\n",
       "  'product_name': 'iRobot Rumba J7+',\n",
       "  'category_id': 8,\n",
       "  'sku': 'RE056PLF',\n",
       "  'price': 3299,\n",
       "  'discount_id': nan,\n",
       "  'created_at': Timestamp('2022-03-14 14:29:07'),\n",
       "  'last_modified': None,\n",
       "  'discount_name': None,\n",
       "  'discount_desc': None,\n",
       "  'discount_percent': nan,\n",
       "  'is_active_status': None,\n",
       "  'discount_created_at': None,\n",
       "  'discount_modified_at': None,\n",
       "  'quantity': 75,\n",
       "  'max_stock_quantity': 80,\n",
       "  'unit': '1PCS'},\n",
       " {'product_id': 20,\n",
       "  'product_name': 'BenQ GW2283',\n",
       "  'category_id': 5,\n",
       "  'sku': 'EPPLS001',\n",
       "  'price': 579,\n",
       "  'discount_id': nan,\n",
       "  'created_at': Timestamp('2022-03-05 00:31:10'),\n",
       "  'last_modified': None,\n",
       "  'discount_name': None,\n",
       "  'discount_desc': None,\n",
       "  'discount_percent': nan,\n",
       "  'is_active_status': None,\n",
       "  'discount_created_at': None,\n",
       "  'discount_modified_at': None,\n",
       "  'quantity': 1,\n",
       "  'max_stock_quantity': 80,\n",
       "  'unit': '1PCS'}]"
      ]
     },
     "execution_count": 21,
     "metadata": {},
     "output_type": "execute_result"
    }
   ],
   "source": [
    "product_dict"
   ]
  },
  {
   "cell_type": "code",
   "execution_count": 23,
   "metadata": {},
   "outputs": [],
   "source": [
    "product_df.replace({pd.NaT: None}, inplace=True)\n",
    "\n",
    "product_dict = product_df.to_dict(orient='records')\n",
    "product_dict_rel = {}\n",
    "for p in product_dict:\n",
    "    product_node = Node(\"PRODUCT\", product_id=p[\"product_id\"], product_name=p[\"product_name\"], category_id=p[\"category_id\"], sku=p[\"sku\"], price=p[\"price\"], discount_id=p[\"discount_id\"], created_at=p[\"created_at\"], last_modified=p[\"last_modified\"], discount_name=p[\"discount_name\"], discount_desc=p[\"discount_desc\"], discount_percent=p[\"discount_percent\"], is_active_status=p[\"is_active_status\"], discount_created_at=p[\"discount_created_at\"], discount_modified_at=p[\"discount_modified_at\"], quantity=p[\"quantity\"], max_stock_quantity=p[\"max_stock_quantity\"], unit=p[\"unit\"])\n",
    "    graph.create(product_node)\n",
    "    \n",
    "    pc_p_rel = Relationship(product_node, \"category\", product_categories_dict_rel[p[\"category_id\"]])\n",
    "    graph.create(pc_p_rel)\n",
    "    product_dict_rel[p[\"product_id\"]] = product_node"
   ]
  },
  {
   "attachments": {},
   "cell_type": "markdown",
   "metadata": {},
   "source": [
    "### DEPARTMENT"
   ]
  },
  {
   "cell_type": "code",
   "execution_count": 24,
   "metadata": {},
   "outputs": [],
   "source": [
    "departments_dict = departments_df.to_dict(orient='records')\n",
    "departments_dict_rel = {}\n",
    "\n",
    "for dp in departments_dict:\n",
    "    department_node = Node(\"DEPARTMENT\", department_id=dp[\"department_id\"], department_name=dp[\"department_name\"])\n",
    "    graph.create(department_node)\n",
    "    departments_dict_rel[dp[\"department_id\"]] = department_node"
   ]
  },
  {
   "attachments": {},
   "cell_type": "markdown",
   "metadata": {},
   "source": [
    "### EMPLOYEES"
   ]
  },
  {
   "cell_type": "code",
   "execution_count": 25,
   "metadata": {},
   "outputs": [],
   "source": [
    "employees_dict = employees_df.to_dict(orient='records')\n",
    "\n",
    "for e in employees_dict:\n",
    "    employees_node = Node(\"EMPLOYEES\", employee_id=e[\"employee_id\"], first_name=e[\"first_name\"], middle_name=e[\"middle_name\"], last_name=e[\"last_name\"], date_of_birth=e[\"date_of_birth\"], department_id=e[\"department_id\"], hire_date=e[\"hire_date\"], salary=e[\"salary\"], phone_number=e[\"phone_number\"], email=e[\"email\"], ssn_number=e[\"ssn_number\"], manager_id=e[\"manager_id\"])\n",
    "    graph.create(employees_node)\n",
    "\n",
    "    e_dp_rel = Relationship(employees_node, \"work\", departments_dict_rel[e[\"department_id\"]])\n",
    "    graph.create(e_dp_rel)"
   ]
  },
  {
   "attachments": {},
   "cell_type": "markdown",
   "metadata": {},
   "source": [
    "### EMPLOYEES_ARCHIVE"
   ]
  },
  {
   "cell_type": "code",
   "execution_count": 26,
   "metadata": {},
   "outputs": [],
   "source": [
    "employees_archive_dict = employees_archive_df.to_dict(orient='records')\n",
    "\n",
    "for ea in employees_archive_dict:\n",
    "    employee_archive_node = Node(\"EMPLOYEE_ARCHIVE\", event_date=ea[\"event_date\"], event_type=ea[\"event_type\"], user_name=ea[\"user_name\"], old_employee_id=ea[\"old_employee_id\"], old_first_name=ea[\"old_first_name\"], old_middle_name=ea[\"old_middle_name\"], old_last_name=ea[\"old_last_name\"], old_date_of_birth=ea[\"old_date_of_birth\"], old_department_id=ea[\"old_department_id\"], old_hire_date=ea[\"old_hire_date\"], old_salary=ea[\"old_salary\"], old_phone_number=ea[\"old_phone_number\"], old_email=ea[\"old_email\"], old_ssn_number=ea[\"old_ssn_number\"], old_manager_id=ea[\"old_manager_id\"], new_employee_id=ea[\"new_employee_id\"], new_first_name=ea[\"new_first_name\"], new_middle_name=ea[\"new_middle_name\"], new_last_name=ea[\"new_last_name\"], new_date_of_birth=ea[\"new_date_of_birth\"], new_department_id=ea[\"new_department_id\"], new_hire_date=ea[\"new_hire_date\"], new_salary=ea[\"new_salary\"], new_phone_number=ea[\"new_phone_number\"], new_email=ea[\"new_email\"], new_ssn_number=ea[\"new_ssn_number\"], new_manager_id=ea[\"new_manager_id\"])\n",
    "    \n",
    "    graph.create(employee_archive_node)"
   ]
  },
  {
   "attachments": {},
   "cell_type": "markdown",
   "metadata": {},
   "source": [
    "### STORE USERS"
   ]
  },
  {
   "cell_type": "code",
   "execution_count": 27,
   "metadata": {},
   "outputs": [],
   "source": [
    "store_users_dict = store_users_df.to_dict(orient='records')\n",
    "store_users_dict_rel = {}\n",
    "\n",
    "for su in store_users_dict:\n",
    "    store_users_node = Node(\"STORE_USERS\", user_id=su[\"user_id\"], first_name=su[\"first_name\"], middle_name=su[\"middle_name\"], last_name=su[\"last_name\"], phone_number=su[\"phone_number\"], email=su[\"email\"], username=su[\"username\"], user_password=su[\"user_password\"], registered_at=su[\"registered_at\"])\n",
    "\n",
    "    graph.create(store_users_node)\n",
    "    store_users_dict_rel[su[\"user_id\"]] = store_users_node\n"
   ]
  },
  {
   "attachments": {},
   "cell_type": "markdown",
   "metadata": {},
   "source": [
    "### ADDRESSES"
   ]
  },
  {
   "cell_type": "code",
   "execution_count": 28,
   "metadata": {},
   "outputs": [],
   "source": [
    "addresses_dict = addresses_df.to_dict(orient='records')\n",
    "addresses_dict_rel = {}\n",
    "\n",
    "for ad in addresses_dict:\n",
    "    addresses_node = Node(\"ADDRESSES\", adress_id=ad[\"adress_id\"], line_1=ad[\"line_1\"], line_2=ad[\"line_2\"], city=ad[\"city\"], zip_code=ad[\"zip_code\"], province=ad[\"province\"], country=ad[\"country\"])\n",
    "    graph.create(addresses_node)\n",
    "\n",
    "    addresses_dict_rel[ad[\"adress_id\"]] = addresses_node"
   ]
  },
  {
   "attachments": {},
   "cell_type": "markdown",
   "metadata": {},
   "source": [
    "### ORDER DETAILS"
   ]
  },
  {
   "cell_type": "code",
   "execution_count": 29,
   "metadata": {},
   "outputs": [],
   "source": [
    "order_details_df.replace({pd.NaT: None}, inplace=True)\n",
    "\n",
    "order_details_dict = order_details_df.to_dict(orient='records')\n",
    "order_details_dict_rel = {}\n",
    "\n",
    "for od in order_details_dict:\n",
    "    order_details_node = Node(\"ORDER_DETAILS\", order_details_id=od[\"order_details_id\"], user_id=od[\"user_id\"], total=od[\"total\"], payment_id=od[\"payment_id\"], shipping_method=od[\"shipping_method\"], delivery_adress_id=od[\"delivery_adress_id\"], created_at=od[\"created_at\"], modified_at=od[\"modified_at\"], amount=od[\"amount\"], provider=od[\"provider\"], payment_status=od[\"payment_status\"], payment_created_at=od[\"payment_created_at\"], payment_modified_at=od[\"payment_modified_at\"])\n",
    "    graph.create(order_details_node)\n",
    "\n",
    "    # RELATION ADDRESSES ORDER_DETAILS\n",
    "    addr_order_rel = Relationship(order_details_node, \"delivery\", addresses_dict_rel[od[\"delivery_adress_id\"]])\n",
    "    graph.create(addr_order_rel)\n",
    "\n",
    "    user_order_rel = Relationship(order_details_node, \"buy\", store_users_dict_rel[od[\"user_id\"]])\n",
    "    graph.create(user_order_rel)\n",
    "\n",
    "    order_details_dict_rel[od[\"order_details_id\"]] = order_details_node"
   ]
  },
  {
   "attachments": {},
   "cell_type": "markdown",
   "metadata": {},
   "source": [
    "### SHOPPING SESSION"
   ]
  },
  {
   "cell_type": "code",
   "execution_count": 30,
   "metadata": {},
   "outputs": [],
   "source": [
    "shopping_session_dict = shopping_session_df.to_dict(orient='records')\n",
    "shopping_session_dict_rel = {}\n",
    "\n",
    "for ss in shopping_session_dict:\n",
    "    shopping_session_node = Node(\"SHOPPING_SESSION\", session_id=ss[\"session_id\"], user_id=ss[\"user_id\"], created_at=ss[\"created_at\"], modified_at=ss[\"modified_at\"])\n",
    "    graph.create(shopping_session_node)\n",
    "\n",
    "    user_session_rel = Relationship(order_details_node, \"session\", store_users_dict_rel[ss[\"user_id\"]])\n",
    "    graph.create(user_session_rel)\n",
    "\n",
    "    order_details_dict_rel[ss[\"session_id\"]] = shopping_session_node"
   ]
  },
  {
   "attachments": {},
   "cell_type": "markdown",
   "metadata": {},
   "source": [
    "### CART_ITEM"
   ]
  },
  {
   "cell_type": "code",
   "execution_count": 31,
   "metadata": {},
   "outputs": [],
   "source": [
    "cart_item_df.replace({pd.NaT: None}, inplace=True)\n",
    "cart_item_dict = cart_item_df.to_dict(orient='records')\n",
    "\n",
    "for ci in cart_item_dict:\n",
    "    cart_item_rel = Relationship(order_details_dict_rel[ci[\"session_id\"]], \"cart_item\", product_dict_rel[ci[\"product_id\"]],cart_item_id=ci[\"cart_item_id\"], session_id=ci[\"session_id\"], product_id=ci[\"product_id\"], quantity=ci[\"quantity\"], created_at=ci[\"created_at\"], modified_at=ci[\"modified_at\"])\n",
    "\n",
    "    graph.create(cart_item_rel)"
   ]
  },
  {
   "attachments": {},
   "cell_type": "markdown",
   "metadata": {},
   "source": [
    "### ORDER ITEMS"
   ]
  },
  {
   "cell_type": "code",
   "execution_count": 32,
   "metadata": {},
   "outputs": [],
   "source": [
    "order_items_df.replace({pd.NaT: None}, inplace=True)\n",
    "\n",
    "order_items_dict = order_items_df.to_dict(orient='records')\n",
    "for oi in order_items_dict:\n",
    "    order_items_rel = Relationship(order_details_dict_rel[oi[\"order_details_id\"]], \"order_items\", product_dict_rel[oi[\"product_id\"]], order_items_id=oi[\"order_items_id\"], order_details_id=oi[\"order_details_id\"], product_id=oi[\"product_id\"], created_at=oi[\"created_at\"], modified_at=oi[\"modified_at\"])\n",
    "\n",
    "    graph.create(order_items_rel)"
   ]
  }
 ],
 "metadata": {
  "kernelspec": {
   "display_name": "DataMining",
   "language": "python",
   "name": "python3"
  },
  "language_info": {
   "codemirror_mode": {
    "name": "ipython",
    "version": 3
   },
   "file_extension": ".py",
   "mimetype": "text/x-python",
   "name": "python",
   "nbconvert_exporter": "python",
   "pygments_lexer": "ipython3",
   "version": "3.9.16"
  },
  "orig_nbformat": 4
 },
 "nbformat": 4,
 "nbformat_minor": 2
}
