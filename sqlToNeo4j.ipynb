{
 "cells": [
  {
   "cell_type": "code",
   "execution_count": 1,
   "metadata": {},
   "outputs": [],
   "source": [
    "import pandas as pd\n",
    "import numpy as np\n",
    "import cx_Oracle\n",
    "from py2neo import Graph, Node, Relationship, NodeMatcher\n",
    "import warnings\n",
    "\n",
    "# Desabilitar o aviso temporariamente\n",
    "warnings.filterwarnings(\"ignore\", category=FutureWarning)"
   ]
  },
  {
   "attachments": {},
   "cell_type": "markdown",
   "metadata": {},
   "source": [
    "# Conexões"
   ]
  },
  {
   "cell_type": "code",
   "execution_count": 2,
   "metadata": {},
   "outputs": [],
   "source": [
    "instant_client = \"./instantclient_21_9\"\n",
    "cx_Oracle.init_oracle_client(lib_dir=instant_client)\n",
    "# Conectar ao banco de dados Oracle\n",
    "conn = cx_Oracle.connect(user=\"store\", password=\"pass\", dsn=\"localhost:1521/xe\")\n",
    "\n",
    "# estabelecer conexão neo4j\n",
    "graph = Graph(\"bolt://localhost:7687 \", auth=(\"neo4j\", \"password\"))\n",
    "matcher = NodeMatcher(graph)"
   ]
  },
  {
   "attachments": {},
   "cell_type": "markdown",
   "metadata": {},
   "source": [
    "# SQL"
   ]
  },
  {
   "cell_type": "code",
   "execution_count": 3,
   "metadata": {},
   "outputs": [],
   "source": [
    "tabelasSQL = [\"STORE_USERS\", \"PRODUCT_CATEGORIES\", \"PRODUCT\", \"DISCOUNT\", \"CART_ITEM\", \"SHOPPING_SESSION\", \"ORDER_DETAILS\", \"ORDER_ITEMS\", \"PAYMENT_DETAILS\", \"EMPLOYEES\", \"DEPARTMENTS\", \"ADRESSES\", \"EMPLOYEES_ARCHIVE\", \"STOCK\"]\n",
    "\n",
    "# Product\n",
    "product_categories_fields = [\"category_id\", \"category_name\"]\n",
    "product_fields = [\"product_id\", \"product_name\", \"category_id\", \"sku\", \"price\", \"discount_id\", \"created_at\", \"last_modified\"]\n",
    "discount_fields = [\"discount_id\", \"discount_name\", \"discount_desc\", \"discount_percent\", \"is_active_status\", \"created_at\", \"modified_at\"]\n",
    "stock_fields = [\"product_id\", \"quantity\", \"max_stock_quantity\", \"unit\"]\n",
    "\n",
    "# Employees\n",
    "employees_fields = [\"employee_id\", \"first_name\", \"middle_name\", \"last_name\", \"date_of_birth\", \"department_id\", \"hire_date\", \"salary\", \"phone_number\", \"email\", \"ssn_number\", \"manager_id\"]\n",
    "departments_fields = [\"department_id\", \"department_name\", \"manager_department_id\", \"department_desc\"]\n",
    "\n",
    "# Empolyees Archive\n",
    "employees_archive_fields = [\"event_date\", \"event_type\", \"user_name\", \"old_employee_id\", \"old_first_name\", \"old_middle_name\", \"old_last_name\", \"old_date_of_birth\", \"old_department_id\", \"old_hire_date\", \"old_salary\", \"old_phone_number\", \"old_email\", \"old_ssn_number\", \"old_manager_id\", \"new_employee_id\", \"new_first_name\", \"new_middle_name\", \"new_last_name\", \"new_date_of_birth\", \"new_department_id\", \"new_hire_date\", \"new_salary\", \"new_phone_number\", \"new_email\", \"new_ssn_number\", \"new_manager_id\"]\n",
    "\n",
    "# ORDER_DETAILS\n",
    "order_details_fields = [\"order_details_id\", \"user_id\", \"total\", \"payment_id\", \"shipping_method\", \"delivery_adress_id\", \"created_at\", \"modified_at\"]\n",
    "#                          payment_details_id\n",
    "payment_details_fields = [\"payment_id\", \"order_details_id\", \"amount\", \"provider\", \"payment_status\", \"payment_created_at\", \"payment_modified_at\"]\n",
    "\n",
    "# ADDRESES\n",
    "addresses_fields = [\"adress_id\", \"line_1\", \"line_2\", \"city\", \"zip_code\", \"province\", \"country\"]\n",
    "\n",
    "# STORE_USERS\n",
    "store_users_fields = [\"user_id\", \"first_name\", \"middle_name\", \"last_name\", \"phone_number\", \"email\", \"username\", \"user_password\", \"registered_at\"]\n",
    "\n",
    "# CART_ITEM\n",
    "cart_item_fields = [\"cart_item_id\", \"session_id\", \"product_id\", \"quantity\", \"created_at\", \"modified_at\"]\n",
    "\n",
    "# SHOPPING_SESSION\n",
    "shopping_session_fields = [\"session_id\", \"user_id\", \"created_at\", \"modified_at\"]\n",
    "\n",
    "# ORDER_ITEMS\n",
    "order_items_fields = [\"order_items_id\", \"order_details_id\", \"product_id\", \"created_at\", \"modified_at\"]"
   ]
  },
  {
   "cell_type": "code",
   "execution_count": 4,
   "metadata": {},
   "outputs": [],
   "source": [
    "# Criar um cursor\n",
    "cursor = conn.cursor()"
   ]
  },
  {
   "attachments": {},
   "cell_type": "markdown",
   "metadata": {},
   "source": [
    "### PRODUCT CATEGORIES"
   ]
  },
  {
   "cell_type": "code",
   "execution_count": 5,
   "metadata": {},
   "outputs": [],
   "source": [
    "cursor.execute('SELECT * FROM PRODUCT_CATEGORIES')\n",
    "product_categories = cursor.fetchall()\n",
    "\n",
    "product_categories_df = pd.DataFrame(product_categories)\n",
    "product_categories_df.columns = product_categories_fields"
   ]
  },
  {
   "attachments": {},
   "cell_type": "markdown",
   "metadata": {},
   "source": [
    "### PRODUCT"
   ]
  },
  {
   "attachments": {},
   "cell_type": "markdown",
   "metadata": {},
   "source": [
    "#### PRODUCT"
   ]
  },
  {
   "cell_type": "code",
   "execution_count": 6,
   "metadata": {},
   "outputs": [],
   "source": [
    "cursor.execute('SELECT * FROM PRODUCT')\n",
    "product = cursor.fetchall()\n",
    "\n",
    "product_df = pd.DataFrame(product)\n",
    "product_df.columns = product_fields"
   ]
  },
  {
   "attachments": {},
   "cell_type": "markdown",
   "metadata": {},
   "source": [
    "#### DISCOUNT"
   ]
  },
  {
   "cell_type": "code",
   "execution_count": 7,
   "metadata": {},
   "outputs": [],
   "source": [
    "cursor.execute('SELECT * FROM DISCOUNT')\n",
    "discount = cursor.fetchall()\n",
    "\n",
    "discount_df = pd.DataFrame(discount)\n",
    "discount_df.columns = discount_fields\n",
    "\n",
    "nanLinha = pd.Series(np.nan, index=discount_fields)\n",
    "discount_df = discount_df.append(nanLinha, ignore_index=True)"
   ]
  },
  {
   "cell_type": "code",
   "execution_count": 8,
   "metadata": {},
   "outputs": [],
   "source": [
    "productNeo_df = pd.merge(product_df, discount_df, on='discount_id')\n",
    "productNeo_df = productNeo_df.loc[:, ~productNeo_df.columns.duplicated()]\n",
    "productNeo_df = productNeo_df.replace({None: np.nan})"
   ]
  },
  {
   "attachments": {},
   "cell_type": "markdown",
   "metadata": {},
   "source": [
    "#### STOCK"
   ]
  },
  {
   "cell_type": "code",
   "execution_count": 9,
   "metadata": {},
   "outputs": [],
   "source": [
    "cursor.execute('SELECT * FROM STOCK')\n",
    "stock = cursor.fetchall()\n",
    "\n",
    "stock_df = pd.DataFrame(stock)\n",
    "stock_df.columns = stock_fields"
   ]
  },
  {
   "cell_type": "code",
   "execution_count": 10,
   "metadata": {},
   "outputs": [],
   "source": [
    "productNeo_df = pd.merge(productNeo_df, stock_df, on='product_id')"
   ]
  },
  {
   "attachments": {},
   "cell_type": "markdown",
   "metadata": {},
   "source": [
    "### EMPLOYEES"
   ]
  },
  {
   "cell_type": "code",
   "execution_count": 11,
   "metadata": {},
   "outputs": [],
   "source": [
    "cursor.execute('SELECT * FROM EMPLOYEES')\n",
    "employees = cursor.fetchall()\n",
    "\n",
    "employees_df = pd.DataFrame(employees)\n",
    "employees_df.columns = employees_fields"
   ]
  },
  {
   "attachments": {},
   "cell_type": "markdown",
   "metadata": {},
   "source": [
    "### DEPARTMENT"
   ]
  },
  {
   "cell_type": "code",
   "execution_count": 12,
   "metadata": {},
   "outputs": [],
   "source": [
    "cursor.execute('SELECT * FROM DEPARTMENTS')\n",
    "departments = cursor.fetchall()\n",
    "\n",
    "departments_df = pd.DataFrame(departments)\n",
    "departments_df.columns = departments_fields"
   ]
  },
  {
   "attachments": {},
   "cell_type": "markdown",
   "metadata": {},
   "source": [
    "### EMPLOYEES_ARCHIVE"
   ]
  },
  {
   "cell_type": "code",
   "execution_count": 13,
   "metadata": {},
   "outputs": [],
   "source": [
    "cursor.execute('SELECT * FROM EMPLOYEES_ARCHIVE')\n",
    "employees_archive = cursor.fetchall()\n",
    "\n",
    "employees_archive_df = pd.DataFrame(employees_archive)\n",
    "employees_archive_df.columns = employees_archive_fields"
   ]
  },
  {
   "attachments": {},
   "cell_type": "markdown",
   "metadata": {},
   "source": [
    "### STORE_USERS"
   ]
  },
  {
   "cell_type": "code",
   "execution_count": 14,
   "metadata": {},
   "outputs": [],
   "source": [
    "cursor.execute('SELECT * FROM STORE_USERS')\n",
    "store_users = cursor.fetchall()\n",
    "\n",
    "store_users_df = pd.DataFrame(store_users)\n",
    "store_users_df.columns = store_users_fields"
   ]
  },
  {
   "attachments": {},
   "cell_type": "markdown",
   "metadata": {},
   "source": [
    "### SHOPPING_SESSION"
   ]
  },
  {
   "cell_type": "code",
   "execution_count": 15,
   "metadata": {},
   "outputs": [],
   "source": [
    "cursor.execute('SELECT * FROM SHOPPING_SESSION')\n",
    "shopping_session = cursor.fetchall()\n",
    "\n",
    "shopping_session_df = pd.DataFrame(shopping_session)\n",
    "shopping_session_df.columns = shopping_session_fields"
   ]
  },
  {
   "attachments": {},
   "cell_type": "markdown",
   "metadata": {},
   "source": [
    "### CART_ITEM"
   ]
  },
  {
   "cell_type": "code",
   "execution_count": 16,
   "metadata": {},
   "outputs": [],
   "source": [
    "cursor.execute('SELECT * FROM CART_ITEM')\n",
    "cart_item = cursor.fetchall()\n",
    "\n",
    "cart_item_df = pd.DataFrame(cart_item)\n",
    "cart_item_df.columns = cart_item_fields"
   ]
  },
  {
   "attachments": {},
   "cell_type": "markdown",
   "metadata": {},
   "source": [
    "### ORDER_DETAILS"
   ]
  },
  {
   "cell_type": "code",
   "execution_count": 17,
   "metadata": {},
   "outputs": [],
   "source": [
    "cursor.execute('SELECT * FROM ORDER_DETAILS')\n",
    "order_details = cursor.fetchall()\n",
    "\n",
    "order_details_df = pd.DataFrame(order_details)\n",
    "order_details_df.columns = order_details_fields"
   ]
  },
  {
   "attachments": {},
   "cell_type": "markdown",
   "metadata": {},
   "source": [
    "#### PAYMENT_DETAILS"
   ]
  },
  {
   "cell_type": "code",
   "execution_count": 18,
   "metadata": {},
   "outputs": [],
   "source": [
    "cursor.execute('SELECT * FROM PAYMENT_DETAILS')\n",
    "payment_details = cursor.fetchall()\n",
    "\n",
    "payment_details_df = pd.DataFrame(payment_details)\n",
    "payment_details_df.columns = payment_details_fields"
   ]
  },
  {
   "cell_type": "code",
   "execution_count": 19,
   "metadata": {},
   "outputs": [],
   "source": [
    "order_details_neo_df = pd.merge(order_details_df, payment_details_df, on='payment_id')\n",
    "order_details_neo_df = order_details_neo_df.loc[:, ~order_details_neo_df.columns.duplicated()]\n",
    "order_details_neo_df.drop(\"order_details_id_y\", axis=1, inplace=True)\n",
    "order_details_neo_df.rename(columns={\"order_details_id_x\": \"order_details_id\"}, inplace=True) "
   ]
  },
  {
   "attachments": {},
   "cell_type": "markdown",
   "metadata": {},
   "source": [
    "### ADDRESSES"
   ]
  },
  {
   "cell_type": "code",
   "execution_count": 20,
   "metadata": {},
   "outputs": [],
   "source": [
    "cursor.execute('SELECT * FROM ADDRESSES')\n",
    "addresses = cursor.fetchall()\n",
    "\n",
    "addresses_df = pd.DataFrame(addresses)\n",
    "addresses_df.columns = addresses_fields"
   ]
  },
  {
   "attachments": {},
   "cell_type": "markdown",
   "metadata": {},
   "source": [
    "### ORDER_ITEMS"
   ]
  },
  {
   "cell_type": "code",
   "execution_count": 21,
   "metadata": {},
   "outputs": [],
   "source": [
    "cursor.execute('SELECT * FROM ORDER_ITEMS')\n",
    "order_items = cursor.fetchall()\n",
    "\n",
    "order_items_df = pd.DataFrame(order_items)\n",
    "order_items_df.columns = order_items_fields"
   ]
  },
  {
   "attachments": {},
   "cell_type": "markdown",
   "metadata": {},
   "source": [
    "# Inserir NEO4J"
   ]
  },
  {
   "attachments": {},
   "cell_type": "markdown",
   "metadata": {},
   "source": [
    "### PRODUCT_CATEGORIES"
   ]
  },
  {
   "cell_type": "code",
   "execution_count": 22,
   "metadata": {},
   "outputs": [],
   "source": [
    "product_categories_dict = product_categories_df.to_dict(orient='records')\n",
    "\n",
    "product_categories_dict_rel = {}\n",
    "for pc in product_categories_dict:\n",
    "    product_categories_node = Node(\"PRODUCT_CATEGORIES\",  category_id=pc['category_id'], category_name=pc['category_name'])\n",
    "    graph.create(product_categories_node)\n",
    "    product_categories_dict_rel[pc['category_id']] = product_categories_node"
   ]
  },
  {
   "attachments": {},
   "cell_type": "markdown",
   "metadata": {},
   "source": [
    "### PRODUCT"
   ]
  },
  {
   "cell_type": "code",
   "execution_count": 23,
   "metadata": {},
   "outputs": [],
   "source": [
    "productNeo_df.replace({pd.NaT: None}, inplace=True)\n",
    "\n",
    "product_dict = productNeo_df.to_dict(orient='records')\n",
    "product_dict_rel = {}\n",
    "for p in product_dict:\n",
    "    product_node = Node(\"PRODUCT\", product_id=p[\"product_id\"], product_name=p[\"product_name\"], category_id=p[\"category_id\"], sku=p[\"sku\"], price=p[\"price\"], discount_id=p[\"discount_id\"], created_at_x=p[\"created_at_x\"], last_modified=p[\"last_modified\"], discount_name=p[\"discount_name\"], discount_desc=p[\"discount_desc\"], discount_percent=p[\"discount_percent\"], is_active_status=p[\"is_active_status\"], created_at_y=p[\"created_at_y\"], modified_at=p[\"modified_at\"], quantity=p[\"quantity\"], max_stock_quantity=p[\"max_stock_quantity\"], unit=p[\"unit\"])\n",
    "    graph.create(product_node)\n",
    "    \n",
    "    pc_p_rel = Relationship(product_node, \"category\", product_categories_dict_rel[p[\"category_id\"]])\n",
    "    graph.create(pc_p_rel)\n",
    "    product_dict_rel[p[\"product_id\"]] = product_node"
   ]
  },
  {
   "attachments": {},
   "cell_type": "markdown",
   "metadata": {},
   "source": [
    "### DEPARTMENT"
   ]
  },
  {
   "cell_type": "code",
   "execution_count": 24,
   "metadata": {},
   "outputs": [],
   "source": [
    "departments_dict = departments_df.to_dict(orient='records')\n",
    "departments_dict_rel = {}\n",
    "\n",
    "for dp in departments_dict:\n",
    "    department_node = Node(\"DEPARTMENT\", department_id=dp[\"department_id\"], department_name=dp[\"department_name\"])\n",
    "    graph.create(department_node)\n",
    "    departments_dict_rel[dp[\"department_id\"]] = department_node"
   ]
  },
  {
   "attachments": {},
   "cell_type": "markdown",
   "metadata": {},
   "source": [
    "### EMPLOYEES"
   ]
  },
  {
   "cell_type": "code",
   "execution_count": 25,
   "metadata": {},
   "outputs": [],
   "source": [
    "employees_dict = employees_df.to_dict(orient='records')\n",
    "\n",
    "for e in employees_dict:\n",
    "    employees_node = Node(\"EMPLOYEES\", employee_id=e[\"employee_id\"], first_name=e[\"first_name\"], middle_name=e[\"middle_name\"], last_name=e[\"last_name\"], date_of_birth=e[\"date_of_birth\"], department_id=e[\"department_id\"], hire_date=e[\"hire_date\"], salary=e[\"salary\"], phone_number=e[\"phone_number\"], email=e[\"email\"], ssn_number=e[\"ssn_number\"], manager_id=e[\"manager_id\"])\n",
    "    graph.create(employees_node)\n",
    "\n",
    "    e_dp_rel = Relationship(employees_node, \"work\", departments_dict_rel[e[\"department_id\"]])\n",
    "    graph.create(e_dp_rel)"
   ]
  },
  {
   "attachments": {},
   "cell_type": "markdown",
   "metadata": {},
   "source": [
    "### EMPLOYEES_ARCHIVE"
   ]
  },
  {
   "cell_type": "code",
   "execution_count": 26,
   "metadata": {},
   "outputs": [],
   "source": [
    "employees_archive_dict = employees_archive_df.to_dict(orient='records')\n",
    "\n",
    "for ea in employees_archive_dict:\n",
    "    employee_archive_node = Node(\"EMPLOYEE_ARCHIVE\", event_date=ea[\"event_date\"], event_type=ea[\"event_type\"], user_name=ea[\"user_name\"], old_employee_id=ea[\"old_employee_id\"], old_first_name=ea[\"old_first_name\"], old_middle_name=ea[\"old_middle_name\"], old_last_name=ea[\"old_last_name\"], old_date_of_birth=ea[\"old_date_of_birth\"], old_department_id=ea[\"old_department_id\"], old_hire_date=ea[\"old_hire_date\"], old_salary=ea[\"old_salary\"], old_phone_number=ea[\"old_phone_number\"], old_email=ea[\"old_email\"], old_ssn_number=ea[\"old_ssn_number\"], old_manager_id=ea[\"old_manager_id\"], new_employee_id=ea[\"new_employee_id\"], new_first_name=ea[\"new_first_name\"], new_middle_name=ea[\"new_middle_name\"], new_last_name=ea[\"new_last_name\"], new_date_of_birth=ea[\"new_date_of_birth\"], new_department_id=ea[\"new_department_id\"], new_hire_date=ea[\"new_hire_date\"], new_salary=ea[\"new_salary\"], new_phone_number=ea[\"new_phone_number\"], new_email=ea[\"new_email\"], new_ssn_number=ea[\"new_ssn_number\"], new_manager_id=ea[\"new_manager_id\"])\n",
    "    \n",
    "    graph.create(employee_archive_node)"
   ]
  },
  {
   "attachments": {},
   "cell_type": "markdown",
   "metadata": {},
   "source": [
    "### STORE USERS"
   ]
  },
  {
   "cell_type": "code",
   "execution_count": 27,
   "metadata": {},
   "outputs": [],
   "source": [
    "store_users_dict = store_users_df.to_dict(orient='records')\n",
    "store_users_dict_rel = {}\n",
    "\n",
    "for su in store_users_dict:\n",
    "    store_users_node = Node(\"STORE_USERS\", user_id=su[\"user_id\"], first_name=su[\"first_name\"], middle_name=su[\"middle_name\"], last_name=su[\"last_name\"], phone_number=su[\"phone_number\"], email=su[\"email\"], username=su[\"username\"], user_password=su[\"user_password\"], registered_at=su[\"registered_at\"])\n",
    "\n",
    "    graph.create(store_users_node)\n",
    "    store_users_dict_rel[su[\"user_id\"]] = store_users_node\n"
   ]
  },
  {
   "attachments": {},
   "cell_type": "markdown",
   "metadata": {},
   "source": [
    "### ADDRESSES"
   ]
  },
  {
   "cell_type": "code",
   "execution_count": 28,
   "metadata": {},
   "outputs": [],
   "source": [
    "addresses_dict = addresses_df.to_dict(orient='records')\n",
    "addresses_dict_rel = {}\n",
    "\n",
    "for ad in addresses_dict:\n",
    "    addresses_node = Node(\"ADDRESSES\", adress_id=ad[\"adress_id\"], line_1=ad[\"line_1\"], line_2=ad[\"line_2\"], city=ad[\"city\"], zip_code=ad[\"zip_code\"], province=ad[\"province\"], country=ad[\"country\"])\n",
    "    graph.create(addresses_node)\n",
    "\n",
    "    addresses_dict_rel[ad[\"adress_id\"]] = addresses_node"
   ]
  },
  {
   "attachments": {},
   "cell_type": "markdown",
   "metadata": {},
   "source": [
    "### ORDER DETAILS"
   ]
  },
  {
   "cell_type": "code",
   "execution_count": 29,
   "metadata": {},
   "outputs": [],
   "source": [
    "order_details_neo_df.replace({pd.NaT: None}, inplace=True)\n",
    "\n",
    "order_details_dict = order_details_neo_df.to_dict(orient='records')\n",
    "order_details_dict_rel = {}\n",
    "\n",
    "for od in order_details_dict:\n",
    "    order_details_node = Node(\"ORDER_DETAILS\", order_details_id=od[\"order_details_id\"], user_id=od[\"user_id\"], total=od[\"total\"], payment_id=od[\"payment_id\"], shipping_method=od[\"shipping_method\"], delivery_adress_id=od[\"delivery_adress_id\"], created_at=od[\"created_at\"], modified_at=od[\"modified_at\"], amount=od[\"amount\"], provider=od[\"provider\"], payment_status=od[\"payment_status\"], payment_created_at=od[\"payment_created_at\"], payment_modified_at=od[\"payment_modified_at\"])\n",
    "    graph.create(order_details_node)\n",
    "\n",
    "    # RELATION ADDRESSES ORDER_DETAILS\n",
    "    addr_order_rel = Relationship(order_details_node, \"delivery\", addresses_dict_rel[od[\"delivery_adress_id\"]])\n",
    "    graph.create(addr_order_rel)\n",
    "\n",
    "    user_order_rel = Relationship(order_details_node, \"buy\", store_users_dict_rel[od[\"user_id\"]])\n",
    "    graph.create(user_order_rel)\n",
    "\n",
    "    order_details_dict_rel[od[\"order_details_id\"]] = order_details_node"
   ]
  },
  {
   "attachments": {},
   "cell_type": "markdown",
   "metadata": {},
   "source": [
    "### SHOPPING SESSION"
   ]
  },
  {
   "cell_type": "code",
   "execution_count": 30,
   "metadata": {},
   "outputs": [],
   "source": [
    "shopping_session_dict = shopping_session_df.to_dict(orient='records')\n",
    "shopping_session_dict_rel = {}\n",
    "\n",
    "for ss in shopping_session_dict:\n",
    "    shopping_session_node = Node(\"SHOPPING_SESSION\", session_id=ss[\"session_id\"], user_id=ss[\"user_id\"], created_at=ss[\"created_at\"], modified_at=ss[\"modified_at\"])\n",
    "    graph.create(shopping_session_node)\n",
    "\n",
    "    user_session_rel = Relationship(order_details_node, \"session\", store_users_dict_rel[ss[\"user_id\"]])\n",
    "    graph.create(user_session_rel)\n",
    "\n",
    "    order_details_dict_rel[ss[\"session_id\"]] = shopping_session_node"
   ]
  },
  {
   "attachments": {},
   "cell_type": "markdown",
   "metadata": {},
   "source": [
    "### CART_ITEM"
   ]
  },
  {
   "cell_type": "code",
   "execution_count": 46,
   "metadata": {},
   "outputs": [],
   "source": [
    "cart_item_df.replace({pd.NaT: None}, inplace=True)\n",
    "cart_item_dict = cart_item_df.to_dict(orient='records')\n",
    "\n",
    "for ci in cart_item_dict:\n",
    "    cart_item_rel = Relationship(order_details_dict_rel[ci[\"session_id\"]], \"cart_item\", product_dict_rel[ci[\"product_id\"]],cart_item_id=ci[\"cart_item_id\"], session_id=ci[\"session_id\"], product_id=ci[\"product_id\"], quantity=ci[\"quantity\"], created_at=ci[\"created_at\"], modified_at=ci[\"modified_at\"])\n",
    "\n",
    "    graph.create(cart_item_rel)"
   ]
  },
  {
   "attachments": {},
   "cell_type": "markdown",
   "metadata": {},
   "source": [
    "### ORDER ITEMS"
   ]
  },
  {
   "cell_type": "code",
   "execution_count": 34,
   "metadata": {},
   "outputs": [],
   "source": [
    "order_items_df.replace({pd.NaT: None}, inplace=True)\n",
    "\n",
    "order_items_dict = order_items_df.to_dict(orient='records')\n",
    "for oi in order_items_dict:\n",
    "    order_items_rel = Relationship(order_details_dict_rel[oi[\"order_details_id\"]], \"order_items\", product_dict_rel[oi[\"product_id\"]], order_items_id=oi[\"order_items_id\"], order_details_id=oi[\"order_details_id\"], product_id=oi[\"product_id\"], created_at=oi[\"created_at\"], modified_at=oi[\"modified_at\"])\n",
    "\n",
    "    graph.create(order_items_rel)"
   ]
  }
 ],
 "metadata": {
  "kernelspec": {
   "display_name": "DataMining",
   "language": "python",
   "name": "python3"
  },
  "language_info": {
   "codemirror_mode": {
    "name": "ipython",
    "version": 3
   },
   "file_extension": ".py",
   "mimetype": "text/x-python",
   "name": "python",
   "nbconvert_exporter": "python",
   "pygments_lexer": "ipython3",
   "version": "3.9.16"
  },
  "orig_nbformat": 4
 },
 "nbformat": 4,
 "nbformat_minor": 2
}
