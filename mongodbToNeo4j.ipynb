{
 "cells": [
  {
   "cell_type": "code",
   "execution_count": 44,
   "metadata": {},
   "outputs": [],
   "source": [
    "import pandas as pd\n",
    "import numpy as np\n",
    "import pymongo\n",
    "from py2neo import Graph, Node, Relationship, NodeMatcher\n",
    "import warnings\n",
    "\n",
    "# Desabilitar o aviso temporariamente\n",
    "warnings.filterwarnings(\"ignore\", category=FutureWarning)"
   ]
  },
  {
   "cell_type": "code",
   "execution_count": 45,
   "metadata": {},
   "outputs": [],
   "source": [
    "# estabelecer conexão com o servidor MongoDB\n",
    "client = pymongo.MongoClient(\"mongodb://localhost:27017\")\n",
    "\n",
    "# estabelecer conexão neo4j\n",
    "graph = Graph(\"bolt://localhost:7687 \", auth=(\"neo4j\", \"password\"))\n",
    "matcher = NodeMatcher(graph)"
   ]
  },
  {
   "cell_type": "code",
   "execution_count": 46,
   "metadata": {},
   "outputs": [],
   "source": [
    "mongo_database = client[\"Electronics_Store\"]\n",
    "collection_product = mongo_database[\"product\"] \n",
    "collection_employees = mongo_database[\"employees\"] \n",
    "collection_employees_archive = mongo_database[\"employees_archive\"] \n",
    "collection_order_details = mongo_database[\"order_details\"]\n",
    "collection_store_users = mongo_database[\"store_users\"] \n",
    "collection_cart_item = mongo_database[\"cart_item\"] \n",
    "collection_shopping_session = mongo_database[\"shopping_session\"] \n",
    "collection_order_items = mongo_database[\"order_items\"] \n",
    "collection_addresses = mongo_database[\"addresses\"]"
   ]
  },
  {
   "attachments": {},
   "cell_type": "markdown",
   "metadata": {},
   "source": [
    "### PRODUCT"
   ]
  },
  {
   "cell_type": "code",
   "execution_count": 47,
   "metadata": {},
   "outputs": [],
   "source": [
    "product_json = collection_product.find()\n",
    "for p in product_json:\n",
    "    product_node = Node(\"PRODUCT\", product_id=p[\"product_id\"], product_name=p[\"product_name\"], category_id=p[\"category_id\"], sku=p[\"sku\"], price=p[\"price\"], discount_id=p[\"discount_id\"], created_at_x=p[\"created_at_x\"], last_modified=p[\"last_modified\"], category_name=p[\"category_name\"], discount_name=p[\"discount_name\"], discount_desc=p[\"discount_desc\"], discount_percent=p[\"discount_percent\"], is_active_status=p[\"is_active_status\"], created_at_y=p[\"created_at_y\"], modified_at=p[\"modified_at\"], quantity=p[\"quantity\"], max_stock_quantity=p[\"max_stock_quantity\"], unit=p[\"unit\"])\n",
    "    graph.create(product_node)"
   ]
  },
  {
   "attachments": {},
   "cell_type": "markdown",
   "metadata": {},
   "source": [
    "### EMPLOYEES"
   ]
  },
  {
   "cell_type": "code",
   "execution_count": 48,
   "metadata": {},
   "outputs": [],
   "source": [
    "employees_json = collection_employees.find() \n",
    "for e in employees_json:\n",
    "    employee_node = Node(\"EMPLOYEE\", employee_id=e[\"employee_id\"], first_name=e[\"first_name\"], middle_name=e[\"middle_name\"], last_name=e[\"last_name\"], date_of_birth=e[\"date_of_birth\"], department_id=e[\"department_id\"], hire_date=e[\"hire_date\"], salary=e[\"salary\"], phone_number=e[\"phone_number\"], email=e[\"email\"], ssn_number=e[\"ssn_number\"], manager_id=e[\"manager_id\"], department_name=e[\"department_name\"], manager_department_id=e[\"manager_department_id\"], department_desc=e[\"department_desc\"])\n",
    "    graph.create(employee_node)\n",
    "    "
   ]
  },
  {
   "attachments": {},
   "cell_type": "markdown",
   "metadata": {},
   "source": [
    "### EMPLOYEES ARCHIVE"
   ]
  },
  {
   "cell_type": "code",
   "execution_count": 49,
   "metadata": {},
   "outputs": [],
   "source": [
    "employees_archive_json = collection_employees_archive.find()\n",
    "for ea in employees_archive_json:\n",
    "    employee_archive_node = Node(\"EMPLOYEE_ARCHIVE\", event_date=ea[\"event_date\"], event_type=ea[\"event_type\"], user_name=ea[\"user_name\"], old_employee_id=ea[\"old_employee_id\"], old_first_name=ea[\"old_first_name\"], old_middle_name=ea[\"old_middle_name\"], old_last_name=ea[\"old_last_name\"], old_date_of_birth=ea[\"old_date_of_birth\"], old_department_id=ea[\"old_department_id\"], old_hire_date=ea[\"old_hire_date\"], old_salary=ea[\"old_salary\"], old_phone_number=ea[\"old_phone_number\"], old_email=ea[\"old_email\"], old_ssn_number=ea[\"old_ssn_number\"], old_manager_id=ea[\"old_manager_id\"], new_employee_id=ea[\"new_employee_id\"], new_first_name=ea[\"new_first_name\"], new_middle_name=ea[\"new_middle_name\"], new_last_name=ea[\"new_last_name\"], new_date_of_birth=ea[\"new_date_of_birth\"], new_department_id=ea[\"new_department_id\"], new_hire_date=ea[\"new_hire_date\"], new_salary=ea[\"new_salary\"], new_phone_number=ea[\"new_phone_number\"], new_email=ea[\"new_email\"], new_ssn_number=ea[\"new_ssn_number\"], new_manager_id=ea[\"new_manager_id\"])\n",
    "    \n",
    "    graph.create(employee_archive_node)"
   ]
  },
  {
   "attachments": {},
   "cell_type": "markdown",
   "metadata": {},
   "source": [
    "### STORE USERS"
   ]
  },
  {
   "cell_type": "code",
   "execution_count": 50,
   "metadata": {},
   "outputs": [],
   "source": [
    "store_users_json = collection_store_users.find()\n",
    "for su in store_users_json:\n",
    "    store_users_node = Node(\"STORE_USERS\", user_id=su[\"user_id\"], first_name=su[\"first_name\"], middle_name=su[\"middle_name\"], last_name=su[\"last_name\"], phone_number=su[\"phone_number\"], email=su[\"email\"], username=su[\"username\"], user_password=su[\"user_password\"], registered_at=su[\"registered_at\"])\n",
    "    \n",
    "    graph.create(store_users_node)"
   ]
  },
  {
   "attachments": {},
   "cell_type": "markdown",
   "metadata": {},
   "source": [
    "### ADDRESSES"
   ]
  },
  {
   "cell_type": "code",
   "execution_count": 51,
   "metadata": {},
   "outputs": [],
   "source": [
    "addresses_json = collection_addresses.find()\n",
    "for ad in addresses_json:\n",
    "    addresses_node = Node(\"ADDRESSES\", adress_id=ad[\"adress_id\"], line_1=ad[\"line_1\"], line_2=ad[\"line_2\"], city=ad[\"city\"], zip_code=ad[\"zip_code\"], province=ad[\"province\"], country=ad[\"country\"])\n",
    "    graph.create(addresses_node)"
   ]
  },
  {
   "attachments": {},
   "cell_type": "markdown",
   "metadata": {},
   "source": [
    "### ORDER DETAILS"
   ]
  },
  {
   "cell_type": "code",
   "execution_count": 52,
   "metadata": {},
   "outputs": [],
   "source": [
    "order_details_json = collection_order_details.find()\n",
    "for od in order_details_json:\n",
    "    order_details_node = Node(\"ORDER_DETAILS\", order_details_id=od[\"order_details_id\"], user_id=od[\"user_id\"], total=od[\"total\"], payment_id=od[\"payment_id\"], shipping_method=od[\"shipping_method\"], delivery_adress_id=od[\"delivery_adress_id\"], created_at=od[\"created_at\"], modified_at=od[\"modified_at\"], amount=od[\"amount\"], provider=od[\"provider\"], payment_status=od[\"payment_status\"], payment_created_at=od[\"payment_created_at\"], payment_modified_at=od[\"payment_modified_at\"])\n",
    "    graph.create(order_details_node)\n",
    "\n",
    "    # RELATION ADDRESSES ORDER_DETAILS\n",
    "    \n",
    "    # vai buscar o node adresses\n",
    "    addr_id = od[\"delivery_adress_id\"]\n",
    "    addr = matcher.match(\"ADDRESSES\", adress_id=addr_id).first()\n",
    "\n",
    "    addr_order_rel = Relationship(order_details_node, \"delivery\", addr)\n",
    "    graph.create(addr_order_rel)"
   ]
  },
  {
   "attachments": {},
   "cell_type": "markdown",
   "metadata": {},
   "source": [
    "### SHOPPING SESSION"
   ]
  },
  {
   "cell_type": "code",
   "execution_count": 53,
   "metadata": {},
   "outputs": [],
   "source": [
    "shopping_session_json = collection_shopping_session.find()\n",
    "for ss in shopping_session_json:\n",
    "    shopping_session_node = Node(\"SHOPPING_SESSION\", session_id=ss[\"session_id\"], user_id=ss[\"user_id\"], created_at=ss[\"created_at\"], modified_at=ss[\"modified_at\"])\n",
    "    graph.create(shopping_session_node)"
   ]
  },
  {
   "attachments": {},
   "cell_type": "markdown",
   "metadata": {},
   "source": [
    "### CART_ITEM"
   ]
  },
  {
   "cell_type": "code",
   "execution_count": 54,
   "metadata": {},
   "outputs": [],
   "source": [
    "cart_item_json = collection_cart_item.find()\n",
    "for ci in cart_item_json:\n",
    "    # Vai buscar nodo product\n",
    "    prod_id = ci[\"product_id\"]\n",
    "    prod = matcher.match(\"PRODUCT\", product_id=prod_id).first()\n",
    "\n",
    "    # Vai buscar nodo session\n",
    "    session_id = ci[\"session_id\"]\n",
    "    session = matcher.match(\"SHOPPING_SESSION\", session_id=session_id).first()\n",
    "\n",
    "    cart_item_rel = Relationship(prod, \"cart_item\", session, cart_item_id=ci[\"cart_item_id\"], session_id=ci[\"session_id\"], product_id=ci[\"product_id\"], quantity=ci[\"quantity\"], created_at=ci[\"created_at\"], modified_at=ci[\"modified_at\"])\n",
    "\n",
    "    \n",
    "    graph.create(cart_item_rel)"
   ]
  },
  {
   "attachments": {},
   "cell_type": "markdown",
   "metadata": {},
   "source": [
    "### ORDER ITEMS"
   ]
  },
  {
   "cell_type": "code",
   "execution_count": 55,
   "metadata": {},
   "outputs": [],
   "source": [
    "order_items_json = collection_order_items.find()\n",
    "for oi in order_items_json:\n",
    "    # Vai buscar nodo product\n",
    "    prod_id = oi[\"product_id\"]\n",
    "    prod = matcher.match(\"PRODUCT\", product_id=prod_id).first()\n",
    "\n",
    "    # Vai buscar nodo session\n",
    "    order_details_id = oi[\"order_details_id\"]\n",
    "    order_det = matcher.match(\"ORDER_DETAILS\", order_details_id=order_details_id).first()\n",
    "\n",
    "    order_items_rel = Relationship(order_det, \"order_items\", prod, order_items_id=oi[\"order_items_id\"], order_details_id=oi[\"order_details_id\"], product_id=oi[\"product_id\"], created_at=oi[\"created_at\"], modified_at=oi[\"modified_at\"])\n",
    "    graph.create(order_items_rel)"
   ]
  }
 ],
 "metadata": {
  "kernelspec": {
   "display_name": "DataMining",
   "language": "python",
   "name": "python3"
  },
  "language_info": {
   "codemirror_mode": {
    "name": "ipython",
    "version": 3
   },
   "file_extension": ".py",
   "mimetype": "text/x-python",
   "name": "python",
   "nbconvert_exporter": "python",
   "pygments_lexer": "ipython3",
   "version": "3.9.16"
  },
  "orig_nbformat": 4
 },
 "nbformat": 4,
 "nbformat_minor": 2
}
