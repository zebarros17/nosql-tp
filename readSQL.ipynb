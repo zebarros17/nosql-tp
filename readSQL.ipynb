{
 "cells": [
  {
   "cell_type": "code",
   "execution_count": 1,
   "metadata": {},
   "outputs": [],
   "source": [
    "import pandas as pd\n",
    "import numpy as np\n",
    "import cx_Oracle\n",
    "import pymongo\n",
    "from py2neo import Graph, Node, Relationship, NodeMatcher\n",
    "import warnings\n",
    "\n",
    "# Desabilitar o aviso temporariamente\n",
    "warnings.filterwarnings(\"ignore\", category=FutureWarning)"
   ]
  },
  {
   "attachments": {},
   "cell_type": "markdown",
   "metadata": {},
   "source": [
    "# Conexões"
   ]
  },
  {
   "cell_type": "code",
   "execution_count": 2,
   "metadata": {},
   "outputs": [],
   "source": [
    "instant_client = \"./instantclient_21_9\"\n",
    "cx_Oracle.init_oracle_client(lib_dir=instant_client)\n",
    "# Conectar ao banco de dados Oracle\n",
    "conn = cx_Oracle.connect(user=\"store\", password=\"pass\", dsn=\"localhost:1521/xe\")\n",
    "\n",
    "# estabelecer conexão com o servidor MongoDB\n",
    "client = pymongo.MongoClient(\"mongodb://localhost:27017\")\n",
    "\n",
    "# estabelecer conexão neo4j\n",
    "graph = Graph(\"bolt://localhost:7687 \", auth=(\"neo4j\", \"password\"))\n",
    "matcher = NodeMatcher(graph)"
   ]
  },
  {
   "attachments": {},
   "cell_type": "markdown",
   "metadata": {},
   "source": [
    "# SQL"
   ]
  },
  {
   "cell_type": "code",
   "execution_count": 3,
   "metadata": {},
   "outputs": [],
   "source": [
    "tabelasSQL = [\"STORE_USERS\", \"PRODUCT_CATEGORIES\", \"PRODUCT\", \"DISCOUNT\", \"CART_ITEM\", \"SHOPPING_SESSION\", \"ORDER_DETAILS\", \"ORDER_ITEMS\", \"PAYMENT_DETAILS\", \"EMPLOYEES\", \"DEPARTMENTS\", \"ADRESSES\", \"EMPLOYEES_ARCHIVE\", \"STOCK\"]\n",
    "\n",
    "# Product\n",
    "product_categories_fields = [\"category_id\", \"category_name\"]\n",
    "product_fields = [\"product_id\", \"product_name\", \"category_id\", \"sku\", \"price\", \"discount_id\", \"created_at\", \"last_modified\"]\n",
    "discount_fields = [\"discount_id\", \"discount_name\", \"discount_desc\", \"discount_percent\", \"is_active_status\", \"created_at\", \"modified_at\"]\n",
    "stock_fields = [\"product_id\", \"quantity\", \"max_stock_quantity\", \"unit\"]\n",
    "\n",
    "# Employees\n",
    "employees_fields = [\"employee_id\", \"first_name\", \"middle_name\", \"last_name\", \"date_of_birth\", \"department_id\", \"hire_date\", \"salary\", \"phone_number\", \"email\", \"ssn_number\", \"manager_id\"]\n",
    "departments_fields = [\"department_id\", \"department_name\", \"manager_id\", \"department_desc\"]\n",
    "\n",
    "# Empolyees Archive\n",
    "employees_archive_fields = [\"event_date\", \"event_type\", \"user_name\", \"old_employee_id\", \"old_first_name\", \"old_middle_name\", \"old_last_name\", \"old_date_of_birth\", \"old_department_id\", \"old_hire_date\", \"old_salary\", \"old_phone_number\", \"old_email\", \"old_ssn_number\", \"old_manager_id\", \"new_employee_id\", \"new_first_name\", \"new_middle_name\", \"new_last_name\", \"new_date_of_birth\", \"new_department_id\", \"new_hire_date\", \"new_salary\", \"new_phone_number\", \"new_email\", \"new_ssn_number\", \"new_manager_id\"]\n",
    "\n",
    "# ORDER_DETAILS\n",
    "#                                                                                                delivery_adress_id\n",
    "order_details_fields = [\"order_details_id\", \"user_id\", \"total\", \"payment_id\", \"shipping_method\", \"adress_id\", \"created_at\", \"modified_at\"]\n",
    "addresses_fields = [\"adress_id\", \"line_1\", \"line_2\", \"city\", \"zip_code\", \"province\", \"country\"]\n",
    "#                          payment_details_id\n",
    "payment_details_fields = [\"payment_id\", \"order_id\", \"amount\", \"provider\", \"payment_status\", \"created_at\", \"modified_at\"]\n",
    "\n",
    "# STORE_USERS\n",
    "store_users_fiels = [\"user_id\", \"first_name\", \"middle_name\", \"last_name\", \"phone_number\", \"email\", \"username\", \"user_password\", \"registered_at\"]\n",
    "\n",
    "# CART_ITEM\n",
    "cart_item_fields = [\"cart_item_id\", \"session_id\", \"product_id\", \"quantity\", \"created_at\", \"modified_at\"]\n",
    "\n",
    "# SHOPPING_SESSION\n",
    "shopping_session_fields = [\"session_id\", \"user_id\", \"created_at\", \"modified_at\"]\n",
    "\n",
    "# ORDER_ITEMS\n",
    "order_items_fields = [\"order_items_id\", \"order_details_id\", \"product_id\", \"created_at\", \"modified_at\"]"
   ]
  },
  {
   "cell_type": "code",
   "execution_count": 4,
   "metadata": {},
   "outputs": [],
   "source": [
    "# Criar um cursor\n",
    "cursor = conn.cursor()"
   ]
  },
  {
   "attachments": {},
   "cell_type": "markdown",
   "metadata": {},
   "source": [
    "### PRODUCT"
   ]
  },
  {
   "attachments": {},
   "cell_type": "markdown",
   "metadata": {},
   "source": [
    "#### PRODUCT"
   ]
  },
  {
   "cell_type": "code",
   "execution_count": 5,
   "metadata": {},
   "outputs": [],
   "source": [
    "cursor.execute('SELECT * FROM PRODUCT')\n",
    "product = cursor.fetchall()\n",
    "\n",
    "product_df = pd.DataFrame(product)\n",
    "product_df.columns = product_fields"
   ]
  },
  {
   "attachments": {},
   "cell_type": "markdown",
   "metadata": {},
   "source": [
    "#### PRODUCT CATEGORIES"
   ]
  },
  {
   "cell_type": "code",
   "execution_count": 6,
   "metadata": {},
   "outputs": [],
   "source": [
    "cursor.execute('SELECT * FROM PRODUCT_CATEGORIES')\n",
    "product_categories = cursor.fetchall()\n",
    "\n",
    "product_categories_df = pd.DataFrame(product_categories)\n",
    "product_categories_df.columns = product_categories_fields"
   ]
  },
  {
   "cell_type": "code",
   "execution_count": 7,
   "metadata": {},
   "outputs": [],
   "source": [
    "productMongo_df = pd.merge(product_df, product_categories_df, on='category_id')\n",
    "productMongo_df.drop('category_id', axis=1, inplace=True)"
   ]
  },
  {
   "attachments": {},
   "cell_type": "markdown",
   "metadata": {},
   "source": [
    "#### DISCOUNT"
   ]
  },
  {
   "cell_type": "code",
   "execution_count": 8,
   "metadata": {},
   "outputs": [],
   "source": [
    "cursor.execute('SELECT * FROM DISCOUNT')\n",
    "discount = cursor.fetchall()\n",
    "\n",
    "discount_df = pd.DataFrame(discount)\n",
    "discount_df.columns = discount_fields\n",
    "\n",
    "nanLinha = pd.Series(np.nan, index=discount_fields)\n",
    "discount_df = discount_df.append(nanLinha, ignore_index=True)"
   ]
  },
  {
   "cell_type": "code",
   "execution_count": 9,
   "metadata": {},
   "outputs": [],
   "source": [
    "productMongo_df = pd.merge(productMongo_df, discount_df, on='discount_id')\n",
    "productMongo_df.drop('discount_id', axis=1, inplace=True)\n",
    "productMongo_df = productMongo_df.replace({None: np.nan})"
   ]
  },
  {
   "attachments": {},
   "cell_type": "markdown",
   "metadata": {},
   "source": [
    "#### STOCK"
   ]
  },
  {
   "cell_type": "code",
   "execution_count": 10,
   "metadata": {},
   "outputs": [],
   "source": [
    "cursor.execute('SELECT * FROM STOCK')\n",
    "stock = cursor.fetchall()\n",
    "\n",
    "stock_df = pd.DataFrame(stock)\n",
    "stock_df.columns = stock_fields"
   ]
  },
  {
   "cell_type": "code",
   "execution_count": 11,
   "metadata": {},
   "outputs": [],
   "source": [
    "productMongo_df = pd.merge(productMongo_df, stock_df, on='product_id')"
   ]
  },
  {
   "attachments": {},
   "cell_type": "markdown",
   "metadata": {},
   "source": [
    "### EMPLOYEES"
   ]
  },
  {
   "attachments": {},
   "cell_type": "markdown",
   "metadata": {},
   "source": [
    "#### EMPLOYEES"
   ]
  },
  {
   "cell_type": "code",
   "execution_count": 12,
   "metadata": {},
   "outputs": [],
   "source": [
    "cursor.execute('SELECT * FROM EMPLOYEES')\n",
    "employees = cursor.fetchall()\n",
    "\n",
    "employees_df = pd.DataFrame(employees)\n",
    "employees_df.columns = employees_fields"
   ]
  },
  {
   "attachments": {},
   "cell_type": "markdown",
   "metadata": {},
   "source": [
    "#### DEPARTMENT"
   ]
  },
  {
   "cell_type": "code",
   "execution_count": 13,
   "metadata": {},
   "outputs": [],
   "source": [
    "cursor.execute('SELECT * FROM DEPARTMENTS')\n",
    "departments = cursor.fetchall()\n",
    "\n",
    "departments_df = pd.DataFrame(departments)\n",
    "departments_df.columns = departments_fields"
   ]
  },
  {
   "cell_type": "code",
   "execution_count": 14,
   "metadata": {},
   "outputs": [],
   "source": [
    "employees_mongo_df = pd.merge(employees_df, departments_df, on='department_id')\n",
    "employees_mongo_df.drop('department_id', axis=1, inplace=True)"
   ]
  },
  {
   "attachments": {},
   "cell_type": "markdown",
   "metadata": {},
   "source": [
    "### Empolyees Archive"
   ]
  },
  {
   "cell_type": "code",
   "execution_count": 15,
   "metadata": {},
   "outputs": [],
   "source": [
    "cursor.execute('SELECT * FROM EMPLOYEES_ARCHIVE')\n",
    "employees_archive = cursor.fetchall()\n",
    "\n",
    "employees_archive_df = pd.DataFrame(employees_archive)\n",
    "employees_archive_df.columns = employees_archive_fields"
   ]
  },
  {
   "attachments": {},
   "cell_type": "markdown",
   "metadata": {},
   "source": [
    "### ORDER_DETAILS"
   ]
  },
  {
   "attachments": {},
   "cell_type": "markdown",
   "metadata": {},
   "source": [
    "#### ORDER_DETAILS"
   ]
  },
  {
   "cell_type": "code",
   "execution_count": 16,
   "metadata": {},
   "outputs": [],
   "source": [
    "cursor.execute('SELECT * FROM ORDER_DETAILS')\n",
    "order_details = cursor.fetchall()\n",
    "\n",
    "order_details_df = pd.DataFrame(order_details)\n",
    "order_details_df.columns = order_details_fields"
   ]
  },
  {
   "attachments": {},
   "cell_type": "markdown",
   "metadata": {},
   "source": [
    "#### ADDRESSES"
   ]
  },
  {
   "cell_type": "code",
   "execution_count": 17,
   "metadata": {},
   "outputs": [],
   "source": [
    "cursor.execute('SELECT * FROM ADDRESSES')\n",
    "addresses = cursor.fetchall()\n",
    "\n",
    "addresses_df = pd.DataFrame(addresses)\n",
    "addresses_df.columns = addresses_fields"
   ]
  },
  {
   "cell_type": "code",
   "execution_count": 18,
   "metadata": {},
   "outputs": [],
   "source": [
    "order_details_mongo_df = pd.merge(order_details_df, addresses_df, on='adress_id')\n",
    "order_details_mongo_df.drop(\"adress_id\", axis=1, inplace=True)"
   ]
  },
  {
   "attachments": {},
   "cell_type": "markdown",
   "metadata": {},
   "source": [
    "**FALTA UM LINHA DO ADDRESSES**"
   ]
  },
  {
   "cell_type": "code",
   "execution_count": 19,
   "metadata": {},
   "outputs": [
    {
     "data": {
      "text/html": [
       "<div>\n",
       "<style scoped>\n",
       "    .dataframe tbody tr th:only-of-type {\n",
       "        vertical-align: middle;\n",
       "    }\n",
       "\n",
       "    .dataframe tbody tr th {\n",
       "        vertical-align: top;\n",
       "    }\n",
       "\n",
       "    .dataframe thead th {\n",
       "        text-align: right;\n",
       "    }\n",
       "</style>\n",
       "<table border=\"1\" class=\"dataframe\">\n",
       "  <thead>\n",
       "    <tr style=\"text-align: right;\">\n",
       "      <th></th>\n",
       "      <th>order_details_id</th>\n",
       "      <th>user_id</th>\n",
       "      <th>total</th>\n",
       "      <th>payment_id</th>\n",
       "      <th>shipping_method</th>\n",
       "      <th>created_at</th>\n",
       "      <th>modified_at</th>\n",
       "      <th>line_1</th>\n",
       "      <th>line_2</th>\n",
       "      <th>city</th>\n",
       "      <th>zip_code</th>\n",
       "      <th>province</th>\n",
       "      <th>country</th>\n",
       "    </tr>\n",
       "  </thead>\n",
       "  <tbody>\n",
       "    <tr>\n",
       "      <th>0</th>\n",
       "      <td>1</td>\n",
       "      <td>1</td>\n",
       "      <td>575</td>\n",
       "      <td>1</td>\n",
       "      <td>Inpost</td>\n",
       "      <td>2022-05-18 23:29:16</td>\n",
       "      <td>NaT</td>\n",
       "      <td>6418 Elgar Alley</td>\n",
       "      <td>5</td>\n",
       "      <td>Tampa</td>\n",
       "      <td>33647</td>\n",
       "      <td>Florida</td>\n",
       "      <td>United States</td>\n",
       "    </tr>\n",
       "    <tr>\n",
       "      <th>1</th>\n",
       "      <td>2</td>\n",
       "      <td>6</td>\n",
       "      <td>5299</td>\n",
       "      <td>2</td>\n",
       "      <td>Inpost</td>\n",
       "      <td>2022-01-05 03:29:24</td>\n",
       "      <td>NaT</td>\n",
       "      <td>61 West Center</td>\n",
       "      <td>None</td>\n",
       "      <td>Lexington</td>\n",
       "      <td>40591</td>\n",
       "      <td>Kentucky</td>\n",
       "      <td>United States</td>\n",
       "    </tr>\n",
       "    <tr>\n",
       "      <th>2</th>\n",
       "      <td>3</td>\n",
       "      <td>10</td>\n",
       "      <td>2898</td>\n",
       "      <td>3</td>\n",
       "      <td>DPD</td>\n",
       "      <td>2022-06-07 17:29:29</td>\n",
       "      <td>NaT</td>\n",
       "      <td>886 Becker Street</td>\n",
       "      <td>None</td>\n",
       "      <td>Brooklyn</td>\n",
       "      <td>11205</td>\n",
       "      <td>New York</td>\n",
       "      <td>United States</td>\n",
       "    </tr>\n",
       "    <tr>\n",
       "      <th>3</th>\n",
       "      <td>4</td>\n",
       "      <td>3</td>\n",
       "      <td>1576</td>\n",
       "      <td>4</td>\n",
       "      <td>UPS</td>\n",
       "      <td>2022-02-27 09:29:36</td>\n",
       "      <td>NaT</td>\n",
       "      <td>84013 North Place</td>\n",
       "      <td>1230</td>\n",
       "      <td>New York City</td>\n",
       "      <td>10110</td>\n",
       "      <td>New York</td>\n",
       "      <td>United States</td>\n",
       "    </tr>\n",
       "    <tr>\n",
       "      <th>4</th>\n",
       "      <td>5</td>\n",
       "      <td>2</td>\n",
       "      <td>3028</td>\n",
       "      <td>5</td>\n",
       "      <td>DPD</td>\n",
       "      <td>2022-06-02 00:29:44</td>\n",
       "      <td>NaT</td>\n",
       "      <td>717 Northridge Center</td>\n",
       "      <td>None</td>\n",
       "      <td>Seminole</td>\n",
       "      <td>34642</td>\n",
       "      <td>Florida</td>\n",
       "      <td>United States</td>\n",
       "    </tr>\n",
       "    <tr>\n",
       "      <th>5</th>\n",
       "      <td>6</td>\n",
       "      <td>5</td>\n",
       "      <td>90</td>\n",
       "      <td>6</td>\n",
       "      <td>DPD</td>\n",
       "      <td>2022-07-14 08:29:50</td>\n",
       "      <td>2022-07-15 23:31:47</td>\n",
       "      <td>18122 Helena Park</td>\n",
       "      <td>None</td>\n",
       "      <td>Philadelphia</td>\n",
       "      <td>19125</td>\n",
       "      <td>Pennsylvania</td>\n",
       "      <td>United States</td>\n",
       "    </tr>\n",
       "    <tr>\n",
       "      <th>6</th>\n",
       "      <td>7</td>\n",
       "      <td>4</td>\n",
       "      <td>4498</td>\n",
       "      <td>7</td>\n",
       "      <td>UPS</td>\n",
       "      <td>2021-10-13 21:29:56</td>\n",
       "      <td>NaT</td>\n",
       "      <td>60 Arizona Crossing</td>\n",
       "      <td>None</td>\n",
       "      <td>Salem</td>\n",
       "      <td>97312</td>\n",
       "      <td>Oregon</td>\n",
       "      <td>United States</td>\n",
       "    </tr>\n",
       "    <tr>\n",
       "      <th>7</th>\n",
       "      <td>8</td>\n",
       "      <td>11</td>\n",
       "      <td>5498</td>\n",
       "      <td>8</td>\n",
       "      <td>DHL</td>\n",
       "      <td>2022-03-05 03:30:04</td>\n",
       "      <td>NaT</td>\n",
       "      <td>3 Bayside Crossing</td>\n",
       "      <td>None</td>\n",
       "      <td>Falls Church</td>\n",
       "      <td>22047</td>\n",
       "      <td>Virginia</td>\n",
       "      <td>United States</td>\n",
       "    </tr>\n",
       "    <tr>\n",
       "      <th>8</th>\n",
       "      <td>9</td>\n",
       "      <td>12</td>\n",
       "      <td>2449</td>\n",
       "      <td>9</td>\n",
       "      <td>Inpost</td>\n",
       "      <td>2022-01-14 03:30:10</td>\n",
       "      <td>NaT</td>\n",
       "      <td>915 Ryan Road</td>\n",
       "      <td>None</td>\n",
       "      <td>Salt Lake City</td>\n",
       "      <td>84105</td>\n",
       "      <td>Utah</td>\n",
       "      <td>United States</td>\n",
       "    </tr>\n",
       "    <tr>\n",
       "      <th>9</th>\n",
       "      <td>10</td>\n",
       "      <td>19</td>\n",
       "      <td>2697</td>\n",
       "      <td>10</td>\n",
       "      <td>DHL</td>\n",
       "      <td>2022-04-19 19:30:15</td>\n",
       "      <td>NaT</td>\n",
       "      <td>47 Jenifer Court</td>\n",
       "      <td>None</td>\n",
       "      <td>Shreveport</td>\n",
       "      <td>71105</td>\n",
       "      <td>Louisiana</td>\n",
       "      <td>United States</td>\n",
       "    </tr>\n",
       "    <tr>\n",
       "      <th>10</th>\n",
       "      <td>11</td>\n",
       "      <td>17</td>\n",
       "      <td>17046</td>\n",
       "      <td>11</td>\n",
       "      <td>DHL</td>\n",
       "      <td>2021-11-05 09:30:26</td>\n",
       "      <td>NaT</td>\n",
       "      <td>3864 Corscot Drive</td>\n",
       "      <td>None</td>\n",
       "      <td>Amarillo</td>\n",
       "      <td>79171</td>\n",
       "      <td>Texas</td>\n",
       "      <td>United States</td>\n",
       "    </tr>\n",
       "    <tr>\n",
       "      <th>11</th>\n",
       "      <td>12</td>\n",
       "      <td>7</td>\n",
       "      <td>399</td>\n",
       "      <td>12</td>\n",
       "      <td>Inpost</td>\n",
       "      <td>2022-04-06 20:30:33</td>\n",
       "      <td>2022-04-07 23:32:01</td>\n",
       "      <td>37 Merry Way</td>\n",
       "      <td>None</td>\n",
       "      <td>Racine</td>\n",
       "      <td>53405</td>\n",
       "      <td>Wisconsin</td>\n",
       "      <td>United States</td>\n",
       "    </tr>\n",
       "    <tr>\n",
       "      <th>12</th>\n",
       "      <td>13</td>\n",
       "      <td>15</td>\n",
       "      <td>2697</td>\n",
       "      <td>13</td>\n",
       "      <td>DPD</td>\n",
       "      <td>2021-06-10 22:30:41</td>\n",
       "      <td>NaT</td>\n",
       "      <td>450 Magdeline Park</td>\n",
       "      <td>None</td>\n",
       "      <td>Newport Beach</td>\n",
       "      <td>92662</td>\n",
       "      <td>California</td>\n",
       "      <td>United States</td>\n",
       "    </tr>\n",
       "    <tr>\n",
       "      <th>13</th>\n",
       "      <td>14</td>\n",
       "      <td>8</td>\n",
       "      <td>579</td>\n",
       "      <td>14</td>\n",
       "      <td>DPD</td>\n",
       "      <td>2022-04-07 16:30:51</td>\n",
       "      <td>NaT</td>\n",
       "      <td>17 Hanover Circle</td>\n",
       "      <td>None</td>\n",
       "      <td>Los Angeles</td>\n",
       "      <td>90030</td>\n",
       "      <td>California</td>\n",
       "      <td>United States</td>\n",
       "    </tr>\n",
       "    <tr>\n",
       "      <th>14</th>\n",
       "      <td>15</td>\n",
       "      <td>9</td>\n",
       "      <td>1490</td>\n",
       "      <td>15</td>\n",
       "      <td>Inpost</td>\n",
       "      <td>2022-04-07 03:31:06</td>\n",
       "      <td>NaT</td>\n",
       "      <td>1 Lindbergh Junction</td>\n",
       "      <td>None</td>\n",
       "      <td>Erie</td>\n",
       "      <td>16565</td>\n",
       "      <td>Pennsylvania</td>\n",
       "      <td>United States</td>\n",
       "    </tr>\n",
       "    <tr>\n",
       "      <th>15</th>\n",
       "      <td>16</td>\n",
       "      <td>13</td>\n",
       "      <td>1414</td>\n",
       "      <td>16</td>\n",
       "      <td>DPD</td>\n",
       "      <td>2022-04-23 17:31:11</td>\n",
       "      <td>NaT</td>\n",
       "      <td>18 Ruskin Hill</td>\n",
       "      <td>None</td>\n",
       "      <td>Columbus</td>\n",
       "      <td>43210</td>\n",
       "      <td>Ohio</td>\n",
       "      <td>United States</td>\n",
       "    </tr>\n",
       "    <tr>\n",
       "      <th>16</th>\n",
       "      <td>17</td>\n",
       "      <td>16</td>\n",
       "      <td>1800</td>\n",
       "      <td>17</td>\n",
       "      <td>Inpost</td>\n",
       "      <td>2022-07-04 22:31:19</td>\n",
       "      <td>2022-07-05 03:32:26</td>\n",
       "      <td>877 Springview Hill</td>\n",
       "      <td>None</td>\n",
       "      <td>Chicago</td>\n",
       "      <td>60657</td>\n",
       "      <td>Illinois</td>\n",
       "      <td>United States</td>\n",
       "    </tr>\n",
       "    <tr>\n",
       "      <th>17</th>\n",
       "      <td>18</td>\n",
       "      <td>14</td>\n",
       "      <td>1800</td>\n",
       "      <td>18</td>\n",
       "      <td>DHL</td>\n",
       "      <td>2022-03-09 12:31:28</td>\n",
       "      <td>NaT</td>\n",
       "      <td>517 Fairview Plaza</td>\n",
       "      <td>7712</td>\n",
       "      <td>Lincoln</td>\n",
       "      <td>68524</td>\n",
       "      <td>Nebraska</td>\n",
       "      <td>United States</td>\n",
       "    </tr>\n",
       "    <tr>\n",
       "      <th>18</th>\n",
       "      <td>19</td>\n",
       "      <td>18</td>\n",
       "      <td>4598</td>\n",
       "      <td>19</td>\n",
       "      <td>UPS</td>\n",
       "      <td>2022-02-28 11:31:37</td>\n",
       "      <td>NaT</td>\n",
       "      <td>22 Rockefeller Parkway</td>\n",
       "      <td>None</td>\n",
       "      <td>Olympia</td>\n",
       "      <td>98506</td>\n",
       "      <td>Washington</td>\n",
       "      <td>United States</td>\n",
       "    </tr>\n",
       "  </tbody>\n",
       "</table>\n",
       "</div>"
      ],
      "text/plain": [
       "    order_details_id  user_id  total  payment_id shipping_method  \\\n",
       "0                  1        1    575           1          Inpost   \n",
       "1                  2        6   5299           2          Inpost   \n",
       "2                  3       10   2898           3             DPD   \n",
       "3                  4        3   1576           4             UPS   \n",
       "4                  5        2   3028           5             DPD   \n",
       "5                  6        5     90           6             DPD   \n",
       "6                  7        4   4498           7             UPS   \n",
       "7                  8       11   5498           8             DHL   \n",
       "8                  9       12   2449           9          Inpost   \n",
       "9                 10       19   2697          10             DHL   \n",
       "10                11       17  17046          11             DHL   \n",
       "11                12        7    399          12          Inpost   \n",
       "12                13       15   2697          13             DPD   \n",
       "13                14        8    579          14             DPD   \n",
       "14                15        9   1490          15          Inpost   \n",
       "15                16       13   1414          16             DPD   \n",
       "16                17       16   1800          17          Inpost   \n",
       "17                18       14   1800          18             DHL   \n",
       "18                19       18   4598          19             UPS   \n",
       "\n",
       "            created_at         modified_at                  line_1 line_2  \\\n",
       "0  2022-05-18 23:29:16                 NaT        6418 Elgar Alley      5   \n",
       "1  2022-01-05 03:29:24                 NaT          61 West Center   None   \n",
       "2  2022-06-07 17:29:29                 NaT       886 Becker Street   None   \n",
       "3  2022-02-27 09:29:36                 NaT       84013 North Place   1230   \n",
       "4  2022-06-02 00:29:44                 NaT   717 Northridge Center   None   \n",
       "5  2022-07-14 08:29:50 2022-07-15 23:31:47       18122 Helena Park   None   \n",
       "6  2021-10-13 21:29:56                 NaT     60 Arizona Crossing   None   \n",
       "7  2022-03-05 03:30:04                 NaT      3 Bayside Crossing   None   \n",
       "8  2022-01-14 03:30:10                 NaT           915 Ryan Road   None   \n",
       "9  2022-04-19 19:30:15                 NaT        47 Jenifer Court   None   \n",
       "10 2021-11-05 09:30:26                 NaT      3864 Corscot Drive   None   \n",
       "11 2022-04-06 20:30:33 2022-04-07 23:32:01            37 Merry Way   None   \n",
       "12 2021-06-10 22:30:41                 NaT      450 Magdeline Park   None   \n",
       "13 2022-04-07 16:30:51                 NaT       17 Hanover Circle   None   \n",
       "14 2022-04-07 03:31:06                 NaT    1 Lindbergh Junction   None   \n",
       "15 2022-04-23 17:31:11                 NaT          18 Ruskin Hill   None   \n",
       "16 2022-07-04 22:31:19 2022-07-05 03:32:26     877 Springview Hill   None   \n",
       "17 2022-03-09 12:31:28                 NaT      517 Fairview Plaza   7712   \n",
       "18 2022-02-28 11:31:37                 NaT  22 Rockefeller Parkway   None   \n",
       "\n",
       "              city zip_code      province        country  \n",
       "0            Tampa    33647       Florida  United States  \n",
       "1        Lexington    40591      Kentucky  United States  \n",
       "2         Brooklyn    11205      New York  United States  \n",
       "3    New York City    10110      New York  United States  \n",
       "4         Seminole    34642       Florida  United States  \n",
       "5     Philadelphia    19125  Pennsylvania  United States  \n",
       "6            Salem    97312        Oregon  United States  \n",
       "7     Falls Church    22047      Virginia  United States  \n",
       "8   Salt Lake City    84105          Utah  United States  \n",
       "9       Shreveport    71105     Louisiana  United States  \n",
       "10        Amarillo    79171         Texas  United States  \n",
       "11          Racine    53405     Wisconsin  United States  \n",
       "12   Newport Beach    92662    California  United States  \n",
       "13     Los Angeles    90030    California  United States  \n",
       "14            Erie    16565  Pennsylvania  United States  \n",
       "15        Columbus    43210          Ohio  United States  \n",
       "16         Chicago    60657      Illinois  United States  \n",
       "17         Lincoln    68524      Nebraska  United States  \n",
       "18         Olympia    98506    Washington  United States  "
      ]
     },
     "execution_count": 19,
     "metadata": {},
     "output_type": "execute_result"
    }
   ],
   "source": [
    "order_details_mongo_df"
   ]
  },
  {
   "attachments": {},
   "cell_type": "markdown",
   "metadata": {},
   "source": [
    "#### PAYMENT_DETAILS"
   ]
  },
  {
   "cell_type": "code",
   "execution_count": 20,
   "metadata": {},
   "outputs": [],
   "source": [
    "cursor.execute('SELECT * FROM PAYMENT_DETAILS')\n",
    "payment_details = cursor.fetchall()\n",
    "\n",
    "payment_details_df = pd.DataFrame(payment_details)\n",
    "payment_details_df.columns = payment_details_fields"
   ]
  },
  {
   "cell_type": "code",
   "execution_count": 21,
   "metadata": {},
   "outputs": [],
   "source": [
    "order_details_mongo_df = pd.merge(order_details_mongo_df, payment_details_df, on='payment_id')\n",
    "order_details_mongo_df.drop(\"payment_id\", axis=1, inplace=True)"
   ]
  },
  {
   "attachments": {},
   "cell_type": "markdown",
   "metadata": {},
   "source": [
    "### CART_ITEM"
   ]
  },
  {
   "cell_type": "code",
   "execution_count": 22,
   "metadata": {},
   "outputs": [],
   "source": [
    "cursor.execute('SELECT * FROM CART_ITEM')\n",
    "cart_item = cursor.fetchall()\n",
    "\n",
    "cart_item_df = pd.DataFrame(cart_item)\n",
    "cart_item_df.columns = cart_item_fields"
   ]
  },
  {
   "attachments": {},
   "cell_type": "markdown",
   "metadata": {},
   "source": [
    "### SHOPPING_SESSION"
   ]
  },
  {
   "cell_type": "code",
   "execution_count": 23,
   "metadata": {},
   "outputs": [],
   "source": [
    "cursor.execute('SELECT * FROM SHOPPING_SESSION')\n",
    "shopping_session = cursor.fetchall()\n",
    "\n",
    "shopping_session_df = pd.DataFrame(shopping_session)\n",
    "shopping_session_df.columns = shopping_session_fields"
   ]
  },
  {
   "attachments": {},
   "cell_type": "markdown",
   "metadata": {},
   "source": [
    "### ORDER_DETAILS"
   ]
  },
  {
   "cell_type": "code",
   "execution_count": 24,
   "metadata": {},
   "outputs": [],
   "source": [
    "cursor.execute('SELECT * FROM ORDER_DETAILS')\n",
    "order_details = cursor.fetchall()\n",
    "\n",
    "order_details_df = pd.DataFrame(order_details)\n",
    "order_details_df.columns = order_details_fields"
   ]
  },
  {
   "attachments": {},
   "cell_type": "markdown",
   "metadata": {},
   "source": [
    "### ORDER_ITEMS"
   ]
  },
  {
   "cell_type": "code",
   "execution_count": 25,
   "metadata": {},
   "outputs": [],
   "source": [
    "cursor.execute('SELECT * FROM ORDER_ITEMS')\n",
    "order_items = cursor.fetchall()\n",
    "\n",
    "order_items_df = pd.DataFrame(order_items)\n",
    "order_items_df.columns = order_items_fields"
   ]
  },
  {
   "attachments": {},
   "cell_type": "markdown",
   "metadata": {},
   "source": [
    "# Inserir MongoDB"
   ]
  },
  {
   "cell_type": "code",
   "execution_count": 26,
   "metadata": {},
   "outputs": [],
   "source": [
    "mongo_database = client[\"Electronics_Store\"]\n",
    "collection_product = mongo_database[\"product\"] \n",
    "collection_employees = mongo_database[\"employees\"] \n",
    "collection_employees_archive = mongo_database[\"employees_archive\"] \n",
    "collection_order_details = mongo_database[\"order_details\"]\n",
    "collection_store_users = mongo_database[\"store_users\"] \n",
    "collection_cart_item = mongo_database[\"cart_item\"] \n",
    "collection_shopping_session = mongo_database[\"shopping_session\"] \n",
    "collection_order_items = mongo_database[\"order_items\"] "
   ]
  },
  {
   "attachments": {},
   "cell_type": "markdown",
   "metadata": {},
   "source": [
    "#### PRODUCT"
   ]
  },
  {
   "cell_type": "code",
   "execution_count": 27,
   "metadata": {},
   "outputs": [
    {
     "data": {
      "text/plain": [
       "<pymongo.results.InsertManyResult at 0x21b2d27ef80>"
      ]
     },
     "execution_count": 27,
     "metadata": {},
     "output_type": "execute_result"
    }
   ],
   "source": [
    "product_df.replace({pd.NaT: None}, inplace=True)\n",
    "\n",
    "product_data = product_df.to_dict(orient='records')\n",
    "collection_product.insert_many(product_data)"
   ]
  },
  {
   "attachments": {},
   "cell_type": "markdown",
   "metadata": {},
   "source": [
    "#### EMPLOYEES"
   ]
  },
  {
   "cell_type": "code",
   "execution_count": 28,
   "metadata": {},
   "outputs": [
    {
     "data": {
      "text/plain": [
       "<pymongo.results.InsertManyResult at 0x21b2d2b19c0>"
      ]
     },
     "execution_count": 28,
     "metadata": {},
     "output_type": "execute_result"
    }
   ],
   "source": [
    "employees_data = employees_df.to_dict(orient='records')\n",
    "collection_employees.insert_many(employees_data)"
   ]
  },
  {
   "attachments": {},
   "cell_type": "markdown",
   "metadata": {},
   "source": [
    "#### Empolyees Archive"
   ]
  },
  {
   "cell_type": "code",
   "execution_count": 29,
   "metadata": {},
   "outputs": [
    {
     "data": {
      "text/plain": [
       "<pymongo.results.InsertManyResult at 0x21b2d27d9c0>"
      ]
     },
     "execution_count": 29,
     "metadata": {},
     "output_type": "execute_result"
    }
   ],
   "source": [
    "employees_archive_data = employees_archive_df.to_dict(orient='records')\n",
    "collection_employees_archive.insert_many(employees_archive_data)"
   ]
  },
  {
   "attachments": {},
   "cell_type": "markdown",
   "metadata": {},
   "source": [
    "#### ORDER_DETAILS"
   ]
  },
  {
   "cell_type": "code",
   "execution_count": 30,
   "metadata": {},
   "outputs": [
    {
     "data": {
      "text/plain": [
       "<pymongo.results.InsertManyResult at 0x21b2c735640>"
      ]
     },
     "execution_count": 30,
     "metadata": {},
     "output_type": "execute_result"
    }
   ],
   "source": [
    "order_details_df.replace({pd.NaT: None}, inplace=True)\n",
    "\n",
    "order_details_data = order_details_df.to_dict(orient='records')\n",
    "collection_order_details.insert_many(order_details_data)"
   ]
  },
  {
   "attachments": {},
   "cell_type": "markdown",
   "metadata": {},
   "source": [
    "#### CART_ITEM"
   ]
  },
  {
   "cell_type": "code",
   "execution_count": 31,
   "metadata": {},
   "outputs": [
    {
     "data": {
      "text/plain": [
       "<pymongo.results.InsertManyResult at 0x21b2d21ff40>"
      ]
     },
     "execution_count": 31,
     "metadata": {},
     "output_type": "execute_result"
    }
   ],
   "source": [
    "cart_item_df.replace({pd.NaT: None}, inplace=True)\n",
    "\n",
    "cart_item_data = cart_item_df.to_dict(orient='records')\n",
    "collection_cart_item.insert_many(cart_item_data)"
   ]
  },
  {
   "attachments": {},
   "cell_type": "markdown",
   "metadata": {},
   "source": [
    "#### SHOPPING_SESSION"
   ]
  },
  {
   "cell_type": "code",
   "execution_count": 32,
   "metadata": {},
   "outputs": [
    {
     "data": {
      "text/plain": [
       "<pymongo.results.InsertManyResult at 0x21b2d2c7340>"
      ]
     },
     "execution_count": 32,
     "metadata": {},
     "output_type": "execute_result"
    }
   ],
   "source": [
    "shopping_session_data = shopping_session_df.to_dict(orient='records')\n",
    "collection_shopping_session.insert_many(shopping_session_data)"
   ]
  },
  {
   "attachments": {},
   "cell_type": "markdown",
   "metadata": {},
   "source": [
    "#### ORDER_DETAILS"
   ]
  },
  {
   "cell_type": "code",
   "execution_count": 33,
   "metadata": {},
   "outputs": [
    {
     "data": {
      "text/plain": [
       "<pymongo.results.InsertManyResult at 0x21b27ba2600>"
      ]
     },
     "execution_count": 33,
     "metadata": {},
     "output_type": "execute_result"
    }
   ],
   "source": [
    "order_details_data = order_details_df.to_dict(orient='records')\n",
    "collection_order_details.insert_many(order_details_data)"
   ]
  },
  {
   "attachments": {},
   "cell_type": "markdown",
   "metadata": {},
   "source": [
    "#### ORDER_ITEMS"
   ]
  },
  {
   "cell_type": "code",
   "execution_count": 34,
   "metadata": {},
   "outputs": [
    {
     "data": {
      "text/plain": [
       "<pymongo.results.InsertManyResult at 0x21b25e8ab80>"
      ]
     },
     "execution_count": 34,
     "metadata": {},
     "output_type": "execute_result"
    }
   ],
   "source": [
    "order_items_df.replace({pd.NaT: None}, inplace=True)\n",
    "\n",
    "order_items_data = order_items_df.to_dict(orient='records')\n",
    "collection_order_items.insert_many(order_items_data)"
   ]
  }
 ],
 "metadata": {
  "kernelspec": {
   "display_name": "DataMining",
   "language": "python",
   "name": "python3"
  },
  "language_info": {
   "codemirror_mode": {
    "name": "ipython",
    "version": 3
   },
   "file_extension": ".py",
   "mimetype": "text/x-python",
   "name": "python",
   "nbconvert_exporter": "python",
   "pygments_lexer": "ipython3",
   "version": "3.9.16"
  },
  "orig_nbformat": 4
 },
 "nbformat": 4,
 "nbformat_minor": 2
}
