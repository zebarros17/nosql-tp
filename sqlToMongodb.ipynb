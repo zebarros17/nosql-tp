{
 "cells": [
  {
   "cell_type": "code",
   "execution_count": 1,
   "metadata": {},
   "outputs": [],
   "source": [
    "import pandas as pd\n",
    "import numpy as np\n",
    "import cx_Oracle\n",
    "import pymongo\n",
    "from py2neo import Graph, Node, Relationship, NodeMatcher\n",
    "import warnings\n",
    "\n",
    "# Desabilitar o aviso temporariamente\n",
    "warnings.filterwarnings(\"ignore\", category=FutureWarning)"
   ]
  },
  {
   "attachments": {},
   "cell_type": "markdown",
   "metadata": {},
   "source": [
    "# Conexões"
   ]
  },
  {
   "cell_type": "code",
   "execution_count": 2,
   "metadata": {},
   "outputs": [],
   "source": [
    "instant_client = \"./instantclient_21_9\"\n",
    "cx_Oracle.init_oracle_client(lib_dir=instant_client)\n",
    "# Conectar ao banco de dados Oracle\n",
    "conn = cx_Oracle.connect(user=\"store\", password=\"pass\", dsn=\"localhost:1521/xe\")\n",
    "\n",
    "# estabelecer conexão com o servidor MongoDB\n",
    "client = pymongo.MongoClient(\"mongodb://localhost:27017\")\n",
    "\n",
    "# estabelecer conexão neo4j\n",
    "graph = Graph(\"bolt://localhost:7687 \", auth=(\"neo4j\", \"password\"))\n",
    "matcher = NodeMatcher(graph)"
   ]
  },
  {
   "attachments": {},
   "cell_type": "markdown",
   "metadata": {},
   "source": [
    "# SQL"
   ]
  },
  {
   "cell_type": "code",
   "execution_count": 3,
   "metadata": {},
   "outputs": [],
   "source": [
    "tabelasSQL = [\"STORE_USERS\", \"PRODUCT_CATEGORIES\", \"PRODUCT\", \"DISCOUNT\", \"CART_ITEM\", \"SHOPPING_SESSION\", \"ORDER_DETAILS\", \"ORDER_ITEMS\", \"PAYMENT_DETAILS\", \"EMPLOYEES\", \"DEPARTMENTS\", \"ADRESSES\", \"EMPLOYEES_ARCHIVE\", \"STOCK\"]\n",
    "\n",
    "# Product\n",
    "product_categories_fields = [\"category_id\", \"category_name\"]\n",
    "product_fields = [\"product_id\", \"product_name\", \"category_id\", \"sku\", \"price\", \"discount_id\", \"created_at\", \"last_modified\"]\n",
    "discount_fields = [\"discount_id\", \"discount_name\", \"discount_desc\", \"discount_percent\", \"is_active_status\", \"created_at\", \"modified_at\"]\n",
    "stock_fields = [\"product_id\", \"quantity\", \"max_stock_quantity\", \"unit\"]\n",
    "\n",
    "# Employees\n",
    "employees_fields = [\"employee_id\", \"first_name\", \"middle_name\", \"last_name\", \"date_of_birth\", \"department_id\", \"hire_date\", \"salary\", \"phone_number\", \"email\", \"ssn_number\", \"manager_id\"]\n",
    "departments_fields = [\"department_id\", \"department_name\", \"manager_department_id\", \"department_desc\"]\n",
    "\n",
    "# Empolyees Archive\n",
    "employees_archive_fields = [\"event_date\", \"event_type\", \"user_name\", \"old_employee_id\", \"old_first_name\", \"old_middle_name\", \"old_last_name\", \"old_date_of_birth\", \"old_department_id\", \"old_hire_date\", \"old_salary\", \"old_phone_number\", \"old_email\", \"old_ssn_number\", \"old_manager_id\", \"new_employee_id\", \"new_first_name\", \"new_middle_name\", \"new_last_name\", \"new_date_of_birth\", \"new_department_id\", \"new_hire_date\", \"new_salary\", \"new_phone_number\", \"new_email\", \"new_ssn_number\", \"new_manager_id\"]\n",
    "\n",
    "# ORDER_DETAILS\n",
    "order_details_fields = [\"order_details_id\", \"user_id\", \"total\", \"payment_id\", \"shipping_method\", \"delivery_adress_id\", \"created_at\", \"modified_at\"]\n",
    "#                          payment_details_id\n",
    "payment_details_fields = [\"payment_id\", \"order_details_id\", \"amount\", \"provider\", \"payment_status\", \"payment_created_at\", \"payment_modified_at\"]\n",
    "\n",
    "# ADDRESES\n",
    "addresses_fields = [\"adress_id\", \"line_1\", \"line_2\", \"city\", \"zip_code\", \"province\", \"country\"]\n",
    "\n",
    "# STORE_USERS\n",
    "store_users_fields = [\"user_id\", \"first_name\", \"middle_name\", \"last_name\", \"phone_number\", \"email\", \"username\", \"user_password\", \"registered_at\"]\n",
    "\n",
    "# CART_ITEM\n",
    "cart_item_fields = [\"cart_item_id\", \"session_id\", \"product_id\", \"quantity\", \"created_at\", \"modified_at\"]\n",
    "\n",
    "# SHOPPING_SESSION\n",
    "shopping_session_fields = [\"session_id\", \"user_id\", \"created_at\", \"modified_at\"]\n",
    "\n",
    "# ORDER_ITEMS\n",
    "order_items_fields = [\"order_items_id\", \"order_details_id\", \"product_id\", \"created_at\", \"modified_at\"]"
   ]
  },
  {
   "cell_type": "code",
   "execution_count": 4,
   "metadata": {},
   "outputs": [],
   "source": [
    "# Criar um cursor\n",
    "cursor = conn.cursor()"
   ]
  },
  {
   "attachments": {},
   "cell_type": "markdown",
   "metadata": {},
   "source": [
    "### PRODUCT"
   ]
  },
  {
   "attachments": {},
   "cell_type": "markdown",
   "metadata": {},
   "source": [
    "#### PRODUCT"
   ]
  },
  {
   "cell_type": "code",
   "execution_count": 5,
   "metadata": {},
   "outputs": [],
   "source": [
    "cursor.execute('SELECT * FROM PRODUCT')\n",
    "product = cursor.fetchall()\n",
    "\n",
    "product_df = pd.DataFrame(product)\n",
    "product_df.columns = product_fields"
   ]
  },
  {
   "attachments": {},
   "cell_type": "markdown",
   "metadata": {},
   "source": [
    "#### PRODUCT CATEGORIES"
   ]
  },
  {
   "cell_type": "code",
   "execution_count": 6,
   "metadata": {},
   "outputs": [],
   "source": [
    "cursor.execute('SELECT * FROM PRODUCT_CATEGORIES')\n",
    "product_categories = cursor.fetchall()\n",
    "\n",
    "product_categories_df = pd.DataFrame(product_categories)\n",
    "product_categories_df.columns = product_categories_fields"
   ]
  },
  {
   "cell_type": "code",
   "execution_count": 7,
   "metadata": {},
   "outputs": [],
   "source": [
    "productMongo_df = pd.merge(product_df, product_categories_df, on='category_id')\n",
    "productMongo_df = productMongo_df.loc[:, ~productMongo_df.columns.duplicated()]"
   ]
  },
  {
   "attachments": {},
   "cell_type": "markdown",
   "metadata": {},
   "source": [
    "#### DISCOUNT"
   ]
  },
  {
   "cell_type": "code",
   "execution_count": 8,
   "metadata": {},
   "outputs": [],
   "source": [
    "cursor.execute('SELECT * FROM DISCOUNT')\n",
    "discount = cursor.fetchall()\n",
    "\n",
    "discount_df = pd.DataFrame(discount)\n",
    "discount_df.columns = discount_fields\n",
    "\n",
    "nanLinha = pd.Series(np.nan, index=discount_fields)\n",
    "discount_df = discount_df.append(nanLinha, ignore_index=True)"
   ]
  },
  {
   "cell_type": "code",
   "execution_count": 9,
   "metadata": {},
   "outputs": [],
   "source": [
    "productMongo_df = pd.merge(productMongo_df, discount_df, on='discount_id')\n",
    "productMongo_df = productMongo_df.loc[:, ~productMongo_df.columns.duplicated()]\n",
    "productMongo_df = productMongo_df.replace({None: np.nan})"
   ]
  },
  {
   "cell_type": "code",
   "execution_count": 10,
   "metadata": {},
   "outputs": [
    {
     "data": {
      "text/plain": [
       "(20, 15)"
      ]
     },
     "execution_count": 10,
     "metadata": {},
     "output_type": "execute_result"
    }
   ],
   "source": [
    "productMongo_df.shape"
   ]
  },
  {
   "attachments": {},
   "cell_type": "markdown",
   "metadata": {},
   "source": [
    "#### STOCK"
   ]
  },
  {
   "cell_type": "code",
   "execution_count": 11,
   "metadata": {},
   "outputs": [],
   "source": [
    "cursor.execute('SELECT * FROM STOCK')\n",
    "stock = cursor.fetchall()\n",
    "\n",
    "stock_df = pd.DataFrame(stock)\n",
    "stock_df.columns = stock_fields"
   ]
  },
  {
   "cell_type": "code",
   "execution_count": 12,
   "metadata": {},
   "outputs": [],
   "source": [
    "productMongo_df = pd.merge(productMongo_df, stock_df, on='product_id')"
   ]
  },
  {
   "attachments": {},
   "cell_type": "markdown",
   "metadata": {},
   "source": [
    "### EMPLOYEES"
   ]
  },
  {
   "attachments": {},
   "cell_type": "markdown",
   "metadata": {},
   "source": [
    "#### EMPLOYEES"
   ]
  },
  {
   "cell_type": "code",
   "execution_count": 13,
   "metadata": {},
   "outputs": [],
   "source": [
    "cursor.execute('SELECT * FROM EMPLOYEES')\n",
    "employees = cursor.fetchall()\n",
    "\n",
    "employees_df = pd.DataFrame(employees)\n",
    "employees_df.columns = employees_fields"
   ]
  },
  {
   "cell_type": "code",
   "execution_count": 14,
   "metadata": {},
   "outputs": [
    {
     "data": {
      "text/plain": [
       "(10, 12)"
      ]
     },
     "execution_count": 14,
     "metadata": {},
     "output_type": "execute_result"
    }
   ],
   "source": [
    "employees_df.shape"
   ]
  },
  {
   "attachments": {},
   "cell_type": "markdown",
   "metadata": {},
   "source": [
    "#### DEPARTMENT"
   ]
  },
  {
   "cell_type": "code",
   "execution_count": 15,
   "metadata": {},
   "outputs": [],
   "source": [
    "cursor.execute('SELECT * FROM DEPARTMENTS')\n",
    "departments = cursor.fetchall()\n",
    "\n",
    "departments_df = pd.DataFrame(departments)\n",
    "departments_df.columns = departments_fields"
   ]
  },
  {
   "cell_type": "code",
   "execution_count": 16,
   "metadata": {},
   "outputs": [],
   "source": [
    "employees_mongo_df = pd.merge(employees_df, departments_df, on='department_id')\n",
    "employees_mongo_df = employees_mongo_df.loc[:, ~employees_mongo_df.columns.duplicated()]"
   ]
  },
  {
   "attachments": {},
   "cell_type": "markdown",
   "metadata": {},
   "source": [
    "### EMPLOYEES_ARCHIVE"
   ]
  },
  {
   "cell_type": "code",
   "execution_count": 17,
   "metadata": {},
   "outputs": [],
   "source": [
    "cursor.execute('SELECT * FROM EMPLOYEES_ARCHIVE')\n",
    "employees_archive = cursor.fetchall()\n",
    "\n",
    "employees_archive_df = pd.DataFrame(employees_archive)\n",
    "employees_archive_df.columns = employees_archive_fields"
   ]
  },
  {
   "cell_type": "code",
   "execution_count": 18,
   "metadata": {},
   "outputs": [
    {
     "data": {
      "text/plain": [
       "(10, 27)"
      ]
     },
     "execution_count": 18,
     "metadata": {},
     "output_type": "execute_result"
    }
   ],
   "source": [
    "employees_archive_df.shape"
   ]
  },
  {
   "attachments": {},
   "cell_type": "markdown",
   "metadata": {},
   "source": [
    "### STORE_USERS"
   ]
  },
  {
   "cell_type": "code",
   "execution_count": 19,
   "metadata": {},
   "outputs": [],
   "source": [
    "cursor.execute('SELECT * FROM STORE_USERS')\n",
    "store_users = cursor.fetchall()\n",
    "\n",
    "store_users_df = pd.DataFrame(store_users)\n",
    "store_users_df.columns = store_users_fields"
   ]
  },
  {
   "attachments": {},
   "cell_type": "markdown",
   "metadata": {},
   "source": [
    "### SHOPPING_SESSION"
   ]
  },
  {
   "cell_type": "code",
   "execution_count": 20,
   "metadata": {},
   "outputs": [],
   "source": [
    "cursor.execute('SELECT * FROM SHOPPING_SESSION')\n",
    "shopping_session = cursor.fetchall()\n",
    "\n",
    "shopping_session_df = pd.DataFrame(shopping_session)\n",
    "shopping_session_df.columns = shopping_session_fields"
   ]
  },
  {
   "attachments": {},
   "cell_type": "markdown",
   "metadata": {},
   "source": [
    "### CART_ITEM"
   ]
  },
  {
   "cell_type": "code",
   "execution_count": 21,
   "metadata": {},
   "outputs": [],
   "source": [
    "cursor.execute('SELECT * FROM CART_ITEM')\n",
    "cart_item = cursor.fetchall()\n",
    "\n",
    "cart_item_df = pd.DataFrame(cart_item)\n",
    "cart_item_df.columns = cart_item_fields"
   ]
  },
  {
   "cell_type": "code",
   "execution_count": 22,
   "metadata": {},
   "outputs": [
    {
     "data": {
      "text/plain": [
       "(33, 6)"
      ]
     },
     "execution_count": 22,
     "metadata": {},
     "output_type": "execute_result"
    }
   ],
   "source": [
    "cart_item_df.shape"
   ]
  },
  {
   "attachments": {},
   "cell_type": "markdown",
   "metadata": {},
   "source": [
    "### ORDER_ITEMS"
   ]
  },
  {
   "cell_type": "code",
   "execution_count": 23,
   "metadata": {},
   "outputs": [],
   "source": [
    "cursor.execute('SELECT * FROM ORDER_ITEMS')\n",
    "order_items = cursor.fetchall()\n",
    "\n",
    "order_items_df = pd.DataFrame(order_items)\n",
    "order_items_df.columns = order_items_fields"
   ]
  },
  {
   "attachments": {},
   "cell_type": "markdown",
   "metadata": {},
   "source": [
    "### ORDER_DETAILS"
   ]
  },
  {
   "cell_type": "code",
   "execution_count": 24,
   "metadata": {},
   "outputs": [],
   "source": [
    "cursor.execute('SELECT * FROM ORDER_DETAILS')\n",
    "order_details = cursor.fetchall()\n",
    "\n",
    "order_details_df = pd.DataFrame(order_details)\n",
    "order_details_df.columns = order_details_fields"
   ]
  },
  {
   "attachments": {},
   "cell_type": "markdown",
   "metadata": {},
   "source": [
    "#### PAYMENT_DETAILS"
   ]
  },
  {
   "cell_type": "code",
   "execution_count": 25,
   "metadata": {},
   "outputs": [],
   "source": [
    "cursor.execute('SELECT * FROM PAYMENT_DETAILS')\n",
    "payment_details = cursor.fetchall()\n",
    "\n",
    "payment_details_df = pd.DataFrame(payment_details)\n",
    "payment_details_df.columns = payment_details_fields"
   ]
  },
  {
   "cell_type": "code",
   "execution_count": 26,
   "metadata": {},
   "outputs": [],
   "source": [
    "order_details_mongo_df = pd.merge(order_details_df, payment_details_df, on='payment_id')\n",
    "order_details_mongo_df = order_details_mongo_df.loc[:, ~order_details_mongo_df.columns.duplicated()]\n",
    "order_details_mongo_df.drop(\"order_details_id_y\", axis=1, inplace=True)\n",
    "order_details_mongo_df.rename(columns={\"order_details_id_x\": \"order_details_id\"}, inplace=True) "
   ]
  },
  {
   "attachments": {},
   "cell_type": "markdown",
   "metadata": {},
   "source": [
    "### ADDRESSES"
   ]
  },
  {
   "cell_type": "code",
   "execution_count": 27,
   "metadata": {},
   "outputs": [],
   "source": [
    "cursor.execute('SELECT * FROM ADDRESSES')\n",
    "addresses = cursor.fetchall()\n",
    "\n",
    "addresses_df = pd.DataFrame(addresses)\n",
    "addresses_df.columns = addresses_fields"
   ]
  },
  {
   "attachments": {},
   "cell_type": "markdown",
   "metadata": {},
   "source": [
    "# Inserir MongoDB"
   ]
  },
  {
   "cell_type": "code",
   "execution_count": 28,
   "metadata": {},
   "outputs": [],
   "source": [
    "mongo_database = client[\"Electronics_Store\"]\n",
    "collection_product = mongo_database[\"product\"] \n",
    "collection_employees = mongo_database[\"employees\"] \n",
    "collection_employees_archive = mongo_database[\"employees_archive\"] \n",
    "collection_order_details = mongo_database[\"order_details\"]\n",
    "collection_store_users = mongo_database[\"store_users\"] \n",
    "collection_cart_item = mongo_database[\"cart_item\"] \n",
    "collection_shopping_session = mongo_database[\"shopping_session\"] \n",
    "collection_order_items = mongo_database[\"order_items\"] \n",
    "collection_addresses = mongo_database[\"addresses\"]"
   ]
  },
  {
   "attachments": {},
   "cell_type": "markdown",
   "metadata": {},
   "source": [
    "### PRODUCT"
   ]
  },
  {
   "cell_type": "code",
   "execution_count": 29,
   "metadata": {},
   "outputs": [
    {
     "data": {
      "text/plain": [
       "<pymongo.results.InsertManyResult at 0x199cb41c0c0>"
      ]
     },
     "execution_count": 29,
     "metadata": {},
     "output_type": "execute_result"
    }
   ],
   "source": [
    "productMongo_df.replace({pd.NaT: None}, inplace=True)\n",
    "\n",
    "product_data = productMongo_df.to_dict(orient='records')\n",
    "collection_product.insert_many(product_data)"
   ]
  },
  {
   "attachments": {},
   "cell_type": "markdown",
   "metadata": {},
   "source": [
    "### EMPLOYEES"
   ]
  },
  {
   "cell_type": "code",
   "execution_count": 30,
   "metadata": {},
   "outputs": [
    {
     "data": {
      "text/plain": [
       "<pymongo.results.InsertManyResult at 0x199cc1d3a40>"
      ]
     },
     "execution_count": 30,
     "metadata": {},
     "output_type": "execute_result"
    }
   ],
   "source": [
    "employees_data = employees_mongo_df.to_dict(orient='records')\n",
    "collection_employees.insert_many(employees_data)"
   ]
  },
  {
   "attachments": {},
   "cell_type": "markdown",
   "metadata": {},
   "source": [
    "### Empolyees Archive"
   ]
  },
  {
   "cell_type": "code",
   "execution_count": 31,
   "metadata": {},
   "outputs": [
    {
     "data": {
      "text/plain": [
       "<pymongo.results.InsertManyResult at 0x199d0b33580>"
      ]
     },
     "execution_count": 31,
     "metadata": {},
     "output_type": "execute_result"
    }
   ],
   "source": [
    "employees_archive_data = employees_archive_df.to_dict(orient='records')\n",
    "collection_employees_archive.insert_many(employees_archive_data)"
   ]
  },
  {
   "attachments": {},
   "cell_type": "markdown",
   "metadata": {},
   "source": [
    "### STORE_USERS"
   ]
  },
  {
   "cell_type": "code",
   "execution_count": 32,
   "metadata": {},
   "outputs": [
    {
     "data": {
      "text/plain": [
       "<pymongo.results.InsertManyResult at 0x199d0b33800>"
      ]
     },
     "execution_count": 32,
     "metadata": {},
     "output_type": "execute_result"
    }
   ],
   "source": [
    "store_users_data = store_users_df.to_dict(orient='records')\n",
    "collection_store_users.insert_many(store_users_data)"
   ]
  },
  {
   "attachments": {},
   "cell_type": "markdown",
   "metadata": {},
   "source": [
    "### SHOPPING_SESSION"
   ]
  },
  {
   "cell_type": "code",
   "execution_count": 33,
   "metadata": {},
   "outputs": [
    {
     "data": {
      "text/plain": [
       "<pymongo.results.InsertManyResult at 0x199d0b4b940>"
      ]
     },
     "execution_count": 33,
     "metadata": {},
     "output_type": "execute_result"
    }
   ],
   "source": [
    "shopping_session_data = shopping_session_df.to_dict(orient='records')\n",
    "collection_shopping_session.insert_many(shopping_session_data)"
   ]
  },
  {
   "attachments": {},
   "cell_type": "markdown",
   "metadata": {},
   "source": [
    "### CART_ITEM"
   ]
  },
  {
   "cell_type": "code",
   "execution_count": 34,
   "metadata": {},
   "outputs": [
    {
     "data": {
      "text/plain": [
       "<pymongo.results.InsertManyResult at 0x199d0b48e80>"
      ]
     },
     "execution_count": 34,
     "metadata": {},
     "output_type": "execute_result"
    }
   ],
   "source": [
    "cart_item_df.replace({pd.NaT: None}, inplace=True)\n",
    "\n",
    "cart_item_data = cart_item_df.to_dict(orient='records')\n",
    "collection_cart_item.insert_many(cart_item_data)"
   ]
  },
  {
   "attachments": {},
   "cell_type": "markdown",
   "metadata": {},
   "source": [
    "### ORDER_ITEMS"
   ]
  },
  {
   "cell_type": "code",
   "execution_count": 35,
   "metadata": {},
   "outputs": [
    {
     "data": {
      "text/plain": [
       "<pymongo.results.InsertManyResult at 0x199c972c680>"
      ]
     },
     "execution_count": 35,
     "metadata": {},
     "output_type": "execute_result"
    }
   ],
   "source": [
    "order_items_df.replace({pd.NaT: None}, inplace=True)\n",
    "\n",
    "order_items_data = order_items_df.to_dict(orient='records')\n",
    "collection_order_items.insert_many(order_items_data)"
   ]
  },
  {
   "attachments": {},
   "cell_type": "markdown",
   "metadata": {},
   "source": [
    "### ORDER_DETAILS"
   ]
  },
  {
   "cell_type": "code",
   "execution_count": 36,
   "metadata": {},
   "outputs": [
    {
     "data": {
      "text/plain": [
       "<pymongo.results.InsertManyResult at 0x199d0b33480>"
      ]
     },
     "execution_count": 36,
     "metadata": {},
     "output_type": "execute_result"
    }
   ],
   "source": [
    "order_details_mongo_df.replace({pd.NaT: None}, inplace=True)\n",
    "\n",
    "order_details_data = order_details_mongo_df.to_dict(orient='records')\n",
    "collection_order_details.insert_many(order_details_data)"
   ]
  },
  {
   "attachments": {},
   "cell_type": "markdown",
   "metadata": {},
   "source": [
    "### ADRESSES"
   ]
  },
  {
   "cell_type": "code",
   "execution_count": 37,
   "metadata": {},
   "outputs": [
    {
     "data": {
      "text/plain": [
       "<pymongo.results.InsertManyResult at 0x199cb412f00>"
      ]
     },
     "execution_count": 37,
     "metadata": {},
     "output_type": "execute_result"
    }
   ],
   "source": [
    "addresses_data = addresses_df.to_dict(orient='records')\n",
    "collection_addresses.insert_many(addresses_data)"
   ]
  }
 ],
 "metadata": {
  "kernelspec": {
   "display_name": "DataMining",
   "language": "python",
   "name": "python3"
  },
  "language_info": {
   "codemirror_mode": {
    "name": "ipython",
    "version": 3
   },
   "file_extension": ".py",
   "mimetype": "text/x-python",
   "name": "python",
   "nbconvert_exporter": "python",
   "pygments_lexer": "ipython3",
   "version": "3.9.16"
  },
  "orig_nbformat": 4
 },
 "nbformat": 4,
 "nbformat_minor": 2
}
